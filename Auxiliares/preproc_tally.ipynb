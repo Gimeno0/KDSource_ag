{
 "cells": [
  {
   "cell_type": "code",
   "execution_count": null,
   "metadata": {},
   "outputs": [],
   "source": [
    "import numpy as np\n",
    "import matplotlib.pyplot as plt\n",
    "np.set_printoptions(precision=3)\n",
    "\n",
    "import ksource_py as ks"
   ]
  },
  {
   "cell_type": "code",
   "execution_count": null,
   "metadata": {},
   "outputs": [],
   "source": [
    "%matplotlib notebook"
   ]
  },
  {
   "cell_type": "markdown",
   "metadata": {},
   "source": [
    "# Abrir tally\n",
    "#### Se recomienda completar plantilla en una celda duplicada"
   ]
  },
  {
   "cell_type": "code",
   "execution_count": null,
   "metadata": {},
   "outputs": [],
   "source": [
    "outputfile = \"filename\"\n",
    "tallyname = \"tally\"\n",
    "spectrum = \"spectrum\"\n",
    "\n",
    "tally = ks.T4Tally(outputfile, tallyname)"
   ]
  },
  {
   "cell_type": "code",
   "execution_count": null,
   "metadata": {},
   "outputs": [],
   "source": [
    "outputfile = \"2_bunker_n/2_bunker_n.out\"\n",
    "tallyname = \"mapa_dosis_ne\"\n",
    "spectrum = \"Decay/Fe59.csv\"\n",
    "\n",
    "tally = ks.T4Tally(outputfile, tallyname)"
   ]
  },
  {
   "cell_type": "markdown",
   "metadata": {},
   "source": [
    "# Crear graficos"
   ]
  },
  {
   "cell_type": "code",
   "execution_count": null,
   "metadata": {},
   "outputs": [],
   "source": [
    "cell = None # Indice de celda en direccion normal a pantalla. None: promediar todas\n",
    "\n",
    "[fig, [scores,errs]] = tally.plot2D(['z', 'x'], cell=cell)"
   ]
  },
  {
   "cell_type": "markdown",
   "metadata": {},
   "source": [
    "# Guardar como lista de tracks"
   ]
  },
  {
   "cell_type": "code",
   "execution_count": null,
   "metadata": {},
   "outputs": [],
   "source": [
    "tracksname = folder+\"/activ_fe.ssv\"\n",
    "\n",
    "tally.save_tracks(tracksname)"
   ]
  },
  {
   "cell_type": "markdown",
   "metadata": {},
   "source": [
    "# Crear KSource"
   ]
  },
  {
   "cell_type": "code",
   "execution_count": null,
   "metadata": {},
   "outputs": [],
   "source": [
    "# Abrir lista de particulas\n",
    "\n",
    "tracks = [\"Decay/Fe59.csv\", \"2_bunker_n_bw0/activ_fe.ssv\", None]\n",
    "readformat = [\"Decay\", \"SSVtally\", \"Isotrop\"]\n",
    "trasl = None\n",
    "rot = None\n",
    "x2z = False\n",
    "\n",
    "set_params = True\n",
    "plist = ks.PList(readformat, tracks, trasl=trasl, rot=rot, switch_x2z=x2z, set_params=set_params)\n",
    "\n",
    "# Crear Metrica\n",
    "\n",
    "trasl = None\n",
    "rot = None\n",
    "metric = ks.Geometry([ks.Lethargy(10), ks.Vol(), ks.Isotrop()], trasl=trasl, rot=rot)\n",
    "\n",
    "#Crear KSource\n",
    "\n",
    "J = 1\n",
    "s = ks.KSource(plist, metric, bw=\"silv\", J=J)"
   ]
  },
  {
   "cell_type": "code",
   "execution_count": null,
   "metadata": {
    "scrolled": true
   },
   "outputs": [],
   "source": [
    "# Ajustar KSource\n",
    "\n",
    "N = 1e5 # Cantidad de particulas a utilizar\n",
    "s.fit(N)\n",
    "s.bw /= 5 # Para graficos integrales puede usarse una bw mas baja"
   ]
  },
  {
   "cell_type": "markdown",
   "metadata": {},
   "source": [
    "# Evaluar estadistica"
   ]
  },
  {
   "cell_type": "code",
   "execution_count": null,
   "metadata": {},
   "outputs": [],
   "source": [
    "Emin = 1e-9\n",
    "dzmax = np.sqrt(1-0.01**2)\n",
    "box = ks.Box([Emin,None,None,None,None,None,dzmax], None)\n",
    "\n",
    "parts,ws = plist.get()\n",
    "tracks = ks.Tracks(parts, ws, box)\n",
    "\n",
    "N,mn,err = tracks.intensity(steps=100)\n",
    "plt.show()\n",
    "\n",
    "N,mn,err = tracks.mean(var=3, steps=100)\n",
    "plt.show()"
   ]
  },
  {
   "cell_type": "markdown",
   "metadata": {},
   "source": [
    "# Optimizar BW (revisar)"
   ]
  },
  {
   "cell_type": "code",
   "execution_count": null,
   "metadata": {},
   "outputs": [],
   "source": [
    "# Metodo de Silverman\n",
    "\n",
    "s.bw_method = \"silv\"\n",
    "N = 1E4\n",
    "s.fit(N, N_tot=2991283)\n",
    "s.save_bw(tracksfile[:-4]+\"_bw_silv.txt\")"
   ]
  },
  {
   "cell_type": "code",
   "execution_count": null,
   "metadata": {},
   "outputs": [],
   "source": [
    "# Metodo de Max Likelihood Cross Validation\n",
    "\n",
    "s.bw_method = \"mlcv\"\n",
    "N = 1E4\n",
    "s.fit(N, N_tot=s.plist.N, steps=20, max_fact=2, shift=.5)\n",
    "s.save_bw(tracksfile[:-4]+\"_bw_mlcv.txt\")"
   ]
  },
  {
   "cell_type": "code",
   "execution_count": null,
   "metadata": {
    "scrolled": false
   },
   "outputs": [],
   "source": [
    "# Metodo de K Nearest Neighbours\n",
    "\n",
    "s.bw_method = \"knn\"\n",
    "N = 1e5\n",
    "s.fit(N)#, N_tot=100000)#2991283)\n",
    "s.save_bw(tracksfile[:-4]+\"_bw_knn.txt\")\n",
    "\n",
    "print(\"Mean bw:\")\n",
    "print(s.bw.mean(axis=0))"
   ]
  },
  {
   "cell_type": "code",
   "execution_count": null,
   "metadata": {},
   "outputs": [],
   "source": [
    "# Graficos de bw variable\n",
    "\n",
    "if N>s.plist.N: N = s.plist.N\n",
    "bws = (s.bw / s.metric.std(vecs=s.vecs))[:,0]\n",
    "\n",
    "Es = s.metric.E.inverse_transform(s.vecs[:N,0])\n",
    "plt.plot(Es, bws, 'o')\n",
    "plt.ylabel(\"bandwidth\")\n",
    "plt.xlabel(\"E [MeV]\")\n",
    "plt.xscale(\"log\")\n",
    "plt.show()\n",
    "\n",
    "xs = s.vecs[:N,1]\n",
    "ys = s.vecs[:N,2]\n",
    "plt.scatter(xs, ys, c=bws)\n",
    "plt.colorbar()\n",
    "plt.xlabel(\"x [cm]\")\n",
    "plt.ylabel(\"y [cm]\")\n",
    "plt.show()\n",
    "\n",
    "mus = s.vecs[:N,5]\n",
    "plt.plot(mus, bws, 'o')\n",
    "plt.ylabel(\"bandwidth\")\n",
    "plt.xlabel(\"mu []\")\n",
    "plt.show()"
   ]
  },
  {
   "cell_type": "markdown",
   "metadata": {},
   "source": [
    "# Guardar KSource"
   ]
  },
  {
   "cell_type": "code",
   "execution_count": null,
   "metadata": {},
   "outputs": [],
   "source": [
    "filename = tracksfile[:-4]+\"_source.txt\"\n",
    "bwfilename = tracksfile[:-4]+\"_bw_knn.txt\"\n",
    "s.save(filename, bwfilename)"
   ]
  },
  {
   "cell_type": "code",
   "execution_count": null,
   "metadata": {},
   "outputs": [],
   "source": []
  }
 ],
 "metadata": {
  "kernelspec": {
   "display_name": "Python 3",
   "language": "python",
   "name": "python3"
  },
  "language_info": {
   "codemirror_mode": {
    "name": "ipython",
    "version": 3
   },
   "file_extension": ".py",
   "mimetype": "text/x-python",
   "name": "python",
   "nbconvert_exporter": "python",
   "pygments_lexer": "ipython3",
   "version": "3.6.9"
  }
 },
 "nbformat": 4,
 "nbformat_minor": 2
}
