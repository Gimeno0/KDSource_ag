{
 "cells": [
  {
   "cell_type": "code",
   "execution_count": 1,
   "metadata": {},
   "outputs": [],
   "source": [
    "import numpy as np\n",
    "import matplotlib.pyplot as plt\n",
    "from sklearn.neighbors import KernelDensity\n",
    "from sklearn.model_selection import GridSearchCV,LeaveOneOut\n",
    "\n",
    "import ksource_py as ks"
   ]
  },
  {
   "cell_type": "code",
   "execution_count": 2,
   "metadata": {},
   "outputs": [],
   "source": [
    "# Abrir lista de particulas\n",
    "\n",
    "folder = \"Ftes_tracks\"\n",
    "tracks = folder+\"/GF12p_n\"\n",
    "trasl = [118.5497276, -102.897199, 5.0]\n",
    "rot = [0.0, 0.0, -158*np.pi/180.0]\n",
    "x2z = True\n",
    "\n",
    "set_params = False\n",
    "plist = ks.PList(ks.PTRAC_read, tracks, trasl=trasl, rot=rot, switch_x2z=x2z, set_params=set_params)\n",
    "if set_params:\n",
    "    print(\"N =\", plist.N)\n",
    "    print(\"I =\", plist.I)\n",
    "    print(\"err =\", np.sqrt(plist.p2))"
   ]
  },
  {
   "cell_type": "code",
   "execution_count": 3,
   "metadata": {},
   "outputs": [],
   "source": [
    "# Crear KSource\n",
    "\n",
    "J = 3.669E+15\n",
    "metric = ks.SepVarMetric(ks.Lethargy(10), ks.SurfXY(0), ks.Polar())\n",
    "s = ks.KSource(metric, bw=\"silv\", J=J)"
   ]
  },
  {
   "cell_type": "markdown",
   "metadata": {},
   "source": [
    "### Optimizacion de BW"
   ]
  },
  {
   "cell_type": "code",
   "execution_count": 4,
   "metadata": {},
   "outputs": [
    {
     "name": "stdout",
     "output_type": "stream",
     "text": [
      "Calculating bw ... Done\n",
      "Optimal bw (silv) = [0.24887693 2.23996913 2.25740294 0.0405025  0.32675199]\n"
     ]
    }
   ],
   "source": [
    "# Metodo de Silverman\n",
    "\n",
    "s.bw_method = \"silv\"\n",
    "N = 1E4\n",
    "s.fit(plist, N, N_tot=2991283)\n",
    "s.save_bw(tracks+\"_bw_silv\")"
   ]
  },
  {
   "cell_type": "code",
   "execution_count": null,
   "metadata": {},
   "outputs": [
    {
     "name": "stdout",
     "output_type": "stream",
     "text": [
      "Calculating bw ... Fitting 10 folds for each of 20 candidates, totalling 200 fits\n"
     ]
    },
    {
     "name": "stderr",
     "output_type": "stream",
     "text": [
      "[Parallel(n_jobs=8)]: Using backend LokyBackend with 8 concurrent workers.\n",
      "[Parallel(n_jobs=8)]: Done   2 tasks      | elapsed:    0.9s\n",
      "[Parallel(n_jobs=8)]: Done   9 tasks      | elapsed:    1.8s\n",
      "[Parallel(n_jobs=8)]: Done  16 tasks      | elapsed:    2.0s\n",
      "[Parallel(n_jobs=8)]: Done  25 tasks      | elapsed:    3.8s\n",
      "[Parallel(n_jobs=8)]: Done  34 tasks      | elapsed:    4.8s\n",
      "[Parallel(n_jobs=8)]: Done  45 tasks      | elapsed:    6.0s\n",
      "[Parallel(n_jobs=8)]: Done  56 tasks      | elapsed:    7.3s\n",
      "[Parallel(n_jobs=8)]: Done  69 tasks      | elapsed:    9.4s\n",
      "[Parallel(n_jobs=8)]: Done  82 tasks      | elapsed:   11.5s\n",
      "[Parallel(n_jobs=8)]: Done  97 tasks      | elapsed:   13.8s\n",
      "[Parallel(n_jobs=8)]: Done 112 tasks      | elapsed:   15.4s\n"
     ]
    }
   ],
   "source": [
    "# Metodo de Max Likelihood Cross Validation\n",
    "\n",
    "s.bw_method = \"mlcv\"\n",
    "N = 1E4\n",
    "s.fit(plist, N, N_tot=2991283)\n",
    "s.save_bw(tracks+\"_bw_mlcv\")"
   ]
  },
  {
   "cell_type": "code",
   "execution_count": 5,
   "metadata": {},
   "outputs": [
    {
     "name": "stdout",
     "output_type": "stream",
     "text": [
      "Calculating bw ... batch = 1 / 10\n",
      "batch = 2 / 10\n",
      "batch = 3 / 10\n",
      "batch = 4 / 10\n",
      "batch = 5 / 10\n",
      "batch = 6 / 10\n",
      "batch = 7 / 10\n",
      "batch = 8 / 10\n",
      "batch = 9 / 10\n",
      "batch = 10 / 10\n",
      "Done\n",
      "Optimal bw (knn) = [[0.12452993 1.12541845 1.13657525 0.02026692 0.16292532]\n",
      " [0.07365761 0.66566836 0.67226744 0.01198758 0.09636791]\n",
      " [0.15717816 1.42047145 1.43455324 0.02558033 0.20563974]\n",
      " ...\n",
      " [0.0648762  0.58630784 0.59212018 0.01055843 0.084879  ]\n",
      " [0.12048084 1.0888255  1.09961954 0.01960794 0.1576278 ]\n",
      " [0.04574973 0.41345554 0.41755432 0.00744565 0.0598554 ]]\n"
     ]
    }
   ],
   "source": [
    "# Metodo de K Nearest Neighbours\n",
    "\n",
    "s.bw_method = \"knn\"\n",
    "N = 1E5\n",
    "s.fit(plist, N, N_tot=2991283)\n",
    "s.save_bw(tracks+\"_bw_knn\")"
   ]
  },
  {
   "cell_type": "code",
   "execution_count": null,
   "metadata": {},
   "outputs": [],
   "source": []
  }
 ],
 "metadata": {
  "kernelspec": {
   "display_name": "Python 3",
   "language": "python",
   "name": "python3"
  },
  "language_info": {
   "codemirror_mode": {
    "name": "ipython",
    "version": 3
   },
   "file_extension": ".py",
   "mimetype": "text/x-python",
   "name": "python",
   "nbconvert_exporter": "python",
   "pygments_lexer": "ipython3",
   "version": "3.6.9"
  }
 },
 "nbformat": 4,
 "nbformat_minor": 2
}
