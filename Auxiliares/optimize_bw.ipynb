{
 "cells": [
  {
   "cell_type": "code",
   "execution_count": 1,
   "metadata": {},
   "outputs": [],
   "source": [
    "import numpy as np\n",
    "import matplotlib.pyplot as plt\n",
    "from sklearn.neighbors import KernelDensity\n",
    "from sklearn.model_selection import GridSearchCV,LeaveOneOut\n",
    "\n",
    "import ksource_py as ks"
   ]
  },
  {
   "cell_type": "code",
   "execution_count": 2,
   "metadata": {},
   "outputs": [],
   "source": [
    "# Abrir lista de particulas\n",
    "\n",
    "folder = \"Ftes_tracks\"\n",
    "tracks = folder+\"/GF12p_n\"\n",
    "trasl = [118.5497276, -102.897199, 5.0]\n",
    "rot = [0.0, 0.0, -158*np.pi/180.0]\n",
    "x2z = True\n",
    "\n",
    "set_params = False\n",
    "plist = ks.PList(ks.PTRAC_read, tracks, trasl=trasl, rot=rot, switch_x2z=x2z, set_params=set_params)\n",
    "if set_params:\n",
    "    print(\"N =\", plist.N)\n",
    "    print(\"I =\", plist.I)\n",
    "    print(\"err =\", np.sqrt(plist.p2))"
   ]
  },
  {
   "cell_type": "code",
   "execution_count": 3,
   "metadata": {},
   "outputs": [],
   "source": [
    "# Crear KSource\n",
    "\n",
    "J = 3.669E+15\n",
    "metric = ks.SepVarMetric(ks.Lethargy(10), ks.SurfXY(0), ks.Polar())\n",
    "s = ks.KSource(metric, bw=\"silv\", J=J)"
   ]
  },
  {
   "cell_type": "markdown",
   "metadata": {},
   "source": [
    "### Optimizacion de BW"
   ]
  },
  {
   "cell_type": "code",
   "execution_count": 4,
   "metadata": {},
   "outputs": [
    {
     "name": "stdout",
     "output_type": "stream",
     "text": [
      "[ 1.38846564 12.49661901 12.59388088  0.22596037  1.82292471]\n",
      "Calculating bw ... [ 1.38846564 12.49661901 12.59388088  0.22596037  1.82292471]\n",
      "Done\n",
      "Optimal bw (silv) = [0.24887693 2.23996913 2.25740294 0.0405025  0.32675199]\n"
     ]
    }
   ],
   "source": [
    "# Metodo de Silverman\n",
    "\n",
    "s.bw_method = \"silv\"\n",
    "N = 1E4\n",
    "s.fit(plist, N, N_tot=2991283)\n",
    "s.save_bw(tracks+\"_bw_silv.txt\")"
   ]
  },
  {
   "cell_type": "code",
   "execution_count": 5,
   "metadata": {},
   "outputs": [
    {
     "name": "stdout",
     "output_type": "stream",
     "text": [
      "[ 1.38846564 12.49661901 12.59388088  0.22596037  1.82292471]\n",
      "Calculating bw ... [ 1.38846564 12.49661901 12.59388088  0.22596037  1.82292471]\n",
      "Fitting 10 folds for each of 20 candidates, totalling 200 fits\n"
     ]
    },
    {
     "name": "stderr",
     "output_type": "stream",
     "text": [
      "[Parallel(n_jobs=8)]: Using backend LokyBackend with 8 concurrent workers.\n",
      "[Parallel(n_jobs=8)]: Done   2 tasks      | elapsed:    1.9s\n",
      "[Parallel(n_jobs=8)]: Done   9 tasks      | elapsed:    2.8s\n",
      "[Parallel(n_jobs=8)]: Done  16 tasks      | elapsed:    3.1s\n",
      "[Parallel(n_jobs=8)]: Done  25 tasks      | elapsed:    4.8s\n",
      "[Parallel(n_jobs=8)]: Done  34 tasks      | elapsed:    5.9s\n",
      "[Parallel(n_jobs=8)]: Done  45 tasks      | elapsed:    7.1s\n",
      "[Parallel(n_jobs=8)]: Done  56 tasks      | elapsed:    8.5s\n",
      "[Parallel(n_jobs=8)]: Done  69 tasks      | elapsed:   10.5s\n",
      "[Parallel(n_jobs=8)]: Done  82 tasks      | elapsed:   12.6s\n",
      "[Parallel(n_jobs=8)]: Done  97 tasks      | elapsed:   14.9s\n",
      "[Parallel(n_jobs=8)]: Done 112 tasks      | elapsed:   17.0s\n",
      "[Parallel(n_jobs=8)]: Done 129 tasks      | elapsed:   19.8s\n",
      "[Parallel(n_jobs=8)]: Done 146 tasks      | elapsed:   22.5s\n",
      "[Parallel(n_jobs=8)]: Done 165 tasks      | elapsed:   25.9s\n",
      "[Parallel(n_jobs=8)]: Done 184 tasks      | elapsed:   29.9s\n",
      "[Parallel(n_jobs=8)]: Done 200 out of 200 | elapsed:   32.8s finished\n"
     ]
    },
    {
     "data": {
      "image/png": "[encoded data removed]",
      "text/plain": [
       "<Figure size 432x288 with 1 Axes>"
      ]
     },
     "metadata": {
      "needs_background": "light"
     },
     "output_type": "display_data"
    },
    {
     "name": "stdout",
     "output_type": "stream",
     "text": [
      "Done\n",
      "Optimal bw (mlcv) = [0.1885824  1.69729973 1.7105099  0.0306901  0.24759094]\n"
     ]
    }
   ],
   "source": [
    "# Metodo de Max Likelihood Cross Validation\n",
    "\n",
    "s.bw_method = \"mlcv\"\n",
    "N = 1E4\n",
    "s.fit(plist, N, N_tot=2991283)\n",
    "s.save_bw(tracks+\"_bw_mlcv.txt\")"
   ]
  },
  {
   "cell_type": "code",
   "execution_count": 5,
   "metadata": {
    "scrolled": false
   },
   "outputs": [
    {
     "name": "stdout",
     "output_type": "stream",
     "text": [
      "Calculando bw ... \n",
      "batch = 1 / 1\n",
      "Hecho\n",
      "Optimal bw (knn) = [[0.24665426 2.2199644  2.23724251 0.04014078 0.32383383]\n",
      " [0.14525827 1.3073692  1.31754452 0.02363948 0.19071043]\n",
      " [0.31091005 2.79828637 2.82006559 0.05059783 0.40819564]\n",
      " ...\n",
      " [0.29764812 2.67892489 2.69977511 0.04843957 0.39078397]\n",
      " [0.38818351 3.49377136 3.52096357 0.0631734  0.50964842]\n",
      " [0.24748212 2.22741537 2.24475146 0.0402755  0.32492073]]\n",
      "[0.30241347 2.72181453 2.74299856 0.04921509 0.39704043]\n"
     ]
    }
   ],
   "source": [
    "# Metodo de K Nearest Neighbours\n",
    "\n",
    "s.bw_method = \"knn\"\n",
    "N = 10000\n",
    "s.fit(plist, N, N_tot=100000)#2991283)\n",
    "s.save_bw(tracks+\"_bw_knn.txt\")\n",
    "print(s.bw.mean(axis=0))"
   ]
  },
  {
   "cell_type": "code",
   "execution_count": null,
   "metadata": {},
   "outputs": [],
   "source": []
  }
 ],
 "metadata": {
  "kernelspec": {
   "display_name": "Python 3",
   "language": "python",
   "name": "python3"
  },
  "language_info": {
   "codemirror_mode": {
    "name": "ipython",
    "version": 3
   },
   "file_extension": ".py",
   "mimetype": "text/x-python",
   "name": "python",
   "nbconvert_exporter": "python",
   "pygments_lexer": "ipython3",
   "version": "3.6.9"
  }
 },
 "nbformat": 4,
 "nbformat_minor": 2
}
