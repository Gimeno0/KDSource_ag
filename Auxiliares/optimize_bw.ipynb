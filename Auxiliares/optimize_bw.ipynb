{
 "cells": [
  {
   "cell_type": "code",
   "execution_count": 1,
   "metadata": {},
   "outputs": [],
   "source": [
    "import numpy as np\n",
    "import matplotlib.pyplot as plt\n",
    "from sklearn.neighbors import KernelDensity\n",
    "from sklearn.model_selection import GridSearchCV,LeaveOneOut\n",
    "\n",
    "import ksource_py as ks"
   ]
  },
  {
   "cell_type": "code",
   "execution_count": 2,
   "metadata": {},
   "outputs": [
    {
     "name": "stdout",
     "output_type": "stream",
     "text": [
      "N = 1\n",
      "I = 1.0\n",
      "err = 1.0\n"
     ]
    }
   ],
   "source": [
    "filename = \"GF12p_n\"\n",
    "trasl = [118.5497276, -102.897199, 5.0]\n",
    "rot = [0.0, 0.0, -158*np.pi/180.0]\n",
    "x2z = True\n",
    "plist = ks.PList(ks.PTRAC_read, filename, trasl=trasl, rot=rot, switch_x2z=x2z, set_params=False)\n",
    "print(\"N =\", plist.N)\n",
    "print(\"I =\", plist.I)\n",
    "print(\"err =\", np.sqrt(plist.p2))"
   ]
  },
  {
   "cell_type": "code",
   "execution_count": 3,
   "metadata": {},
   "outputs": [],
   "source": [
    "N = 1000000\n",
    "parts,ws = plist.get(N=N)\n",
    "parts = parts[ws>0]\n",
    "ws = ws[ws>0]"
   ]
  },
  {
   "cell_type": "markdown",
   "metadata": {},
   "source": [
    "### Optimizacion de BW"
   ]
  },
  {
   "cell_type": "code",
   "execution_count": 4,
   "metadata": {},
   "outputs": [
    {
     "name": "stdout",
     "output_type": "stream",
     "text": [
      "Calculating bw ... Done\n",
      "Optimal bw (silv) = [0.29120679 2.63173281 2.65782241 0.08042671 0.08042671 0.08042671]\n"
     ]
    }
   ],
   "source": [
    "metric = ks.SepVarMetric(ks.Lethargy(10), ks.SurfXY(0), ks.Isotrop())\n",
    "s = ks.KSource(metric)\n",
    "s.fit(plist=plist, N=1E5, N_tot=2991283)"
   ]
  },
  {
   "cell_type": "code",
   "execution_count": null,
   "metadata": {},
   "outputs": [],
   "source": [
    "bw_silv = s.optimize_bw(parts, N_tot=2991283, method='silv')\n",
    "print(\"bw silverman:\")\n",
    "print(bw_silv)"
   ]
  },
  {
   "cell_type": "code",
   "execution_count": null,
   "metadata": {},
   "outputs": [],
   "source": [
    "bw_mlcv = s.optimize_bw(parts, N_tot=2991283, method='mlcv')\n",
    "print(\"bw mlcv:\")\n",
    "print(bw_mlcv)\n",
    "np.savetxt(filename+\"_bw_mlcv.txt\", bw_mlcv)"
   ]
  },
  {
   "cell_type": "code",
   "execution_count": 5,
   "metadata": {},
   "outputs": [
    {
     "name": "stdout",
     "output_type": "stream",
     "text": [
      "Calculating KNN ...\n",
      "batch = 1 / 100\n",
      "batch = 2 / 100\n",
      "batch = 3 / 100\n",
      "batch = 4 / 100\n",
      "batch = 5 / 100\n",
      "batch = 6 / 100\n",
      "batch = 7 / 100\n",
      "batch = 8 / 100\n",
      "batch = 9 / 100\n",
      "batch = 10 / 100\n",
      "batch = 11 / 100\n",
      "batch = 12 / 100\n",
      "batch = 13 / 100\n",
      "batch = 14 / 100\n",
      "batch = 15 / 100\n",
      "batch = 16 / 100\n",
      "batch = 17 / 100\n",
      "batch = 18 / 100\n",
      "batch = 19 / 100\n",
      "batch = 20 / 100\n",
      "batch = 21 / 100\n",
      "batch = 22 / 100\n",
      "batch = 23 / 100\n",
      "batch = 24 / 100\n",
      "batch = 25 / 100\n",
      "batch = 26 / 100\n",
      "batch = 27 / 100\n",
      "batch = 28 / 100\n",
      "batch = 29 / 100\n",
      "batch = 30 / 100\n",
      "batch = 31 / 100\n",
      "batch = 32 / 100\n",
      "batch = 33 / 100\n",
      "batch = 34 / 100\n",
      "batch = 35 / 100\n",
      "batch = 36 / 100\n",
      "batch = 37 / 100\n",
      "batch = 38 / 100\n",
      "batch = 39 / 100\n",
      "batch = 40 / 100\n",
      "batch = 41 / 100\n",
      "batch = 42 / 100\n",
      "batch = 43 / 100\n",
      "batch = 44 / 100\n",
      "batch = 45 / 100\n",
      "batch = 46 / 100\n",
      "batch = 47 / 100\n",
      "batch = 48 / 100\n",
      "batch = 49 / 100\n",
      "batch = 50 / 100\n",
      "batch = 51 / 100\n",
      "batch = 52 / 100\n",
      "batch = 53 / 100\n",
      "batch = 54 / 100\n",
      "batch = 55 / 100\n",
      "batch = 56 / 100\n",
      "batch = 57 / 100\n",
      "batch = 58 / 100\n",
      "batch = 59 / 100\n",
      "batch = 60 / 100\n",
      "batch = 61 / 100\n",
      "batch = 62 / 100\n",
      "batch = 63 / 100\n",
      "batch = 64 / 100\n",
      "batch = 65 / 100\n",
      "batch = 66 / 100\n",
      "batch = 67 / 100\n",
      "batch = 68 / 100\n",
      "batch = 69 / 100\n",
      "batch = 70 / 100\n",
      "batch = 71 / 100\n",
      "batch = 72 / 100\n",
      "batch = 73 / 100\n",
      "batch = 74 / 100\n",
      "batch = 75 / 100\n",
      "batch = 76 / 100\n",
      "batch = 77 / 100\n",
      "batch = 78 / 100\n",
      "batch = 79 / 100\n",
      "batch = 80 / 100\n",
      "batch = 81 / 100\n",
      "batch = 82 / 100\n",
      "batch = 83 / 100\n",
      "batch = 84 / 100\n",
      "batch = 85 / 100\n",
      "batch = 86 / 100\n",
      "batch = 87 / 100\n",
      "batch = 88 / 100\n",
      "batch = 89 / 100\n",
      "batch = 90 / 100\n",
      "batch = 91 / 100\n",
      "batch = 92 / 100\n",
      "batch = 93 / 100\n",
      "batch = 94 / 100\n",
      "batch = 95 / 100\n",
      "batch = 96 / 100\n",
      "batch = 97 / 100\n",
      "batch = 98 / 100\n",
      "batch = 99 / 100\n",
      "batch = 100 / 100\n",
      "bw knn:\n",
      "[[0.30552942 2.74292208 2.76409089 0.08391047 0.08391047 0.08391047]\n",
      " [0.31958367 2.86909559 2.89123816 0.08777032 0.08777032 0.08777032]\n",
      " [0.28319407 2.54240414 2.56202544 0.07777629 0.07777629 0.07777629]\n",
      " ...\n",
      " [0.23693365 2.12709643 2.14351254 0.06507135 0.06507135 0.06507135]\n",
      " [0.28403218 2.5499284  2.56960776 0.07800647 0.07800647 0.07800647]\n",
      " [0.21275313 1.91001329 1.92475404 0.05843043 0.05843043 0.05843043]]\n"
     ]
    }
   ],
   "source": [
    "bw_knn = s.optimize_bw(parts, N_tot=1000000, method='knn')\n",
    "print(\"bw knn:\")\n",
    "print(bw_knn)\n",
    "np.savetxt(filename+\"_bw_knn.txt\", bw_knn)"
   ]
  },
  {
   "cell_type": "code",
   "execution_count": null,
   "metadata": {},
   "outputs": [],
   "source": []
  }
 ],
 "metadata": {
  "kernelspec": {
   "display_name": "Python 3",
   "language": "python",
   "name": "python3"
  },
  "language_info": {
   "codemirror_mode": {
    "name": "ipython",
    "version": 3
   },
   "file_extension": ".py",
   "mimetype": "text/x-python",
   "name": "python",
   "nbconvert_exporter": "python",
   "pygments_lexer": "ipython3",
   "version": "3.6.9"
  }
 },
 "nbformat": 4,
 "nbformat_minor": 2
}
