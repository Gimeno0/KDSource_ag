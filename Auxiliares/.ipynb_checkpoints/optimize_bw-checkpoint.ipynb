{
 "cells": [
  {
   "cell_type": "code",
   "execution_count": null,
   "metadata": {},
   "outputs": [],
   "source": [
    "import numpy as np\n",
    "import matplotlib.pyplot as plt\n",
    "\n",
    "import ksource_py as ks"
   ]
  },
  {
   "cell_type": "markdown",
   "metadata": {},
   "source": [
    "## Crear KSource\n",
    "#### Se recomienda completar plantilla en una celda duplicada"
   ]
  },
  {
   "cell_type": "code",
   "execution_count": null,
   "metadata": {},
   "outputs": [],
   "source": [
    "# Abrir lista de particulas\n",
    "\n",
    "tracksfile = \"filename\"\n",
    "readformat = \"SSV\" # \"SSV\", \"PTRAC\", \"Decay\"\n",
    "trasl = None\n",
    "rot = None\n",
    "x2z = False\n",
    "\n",
    "set_params = True\n",
    "plist = ks.PList(readformat, tracksfile, trasl=trasl, rot=rot, switch_x2z=x2z, set_params=set_params)\n",
    "\n",
    "# Crear Metrica\n",
    "\n",
    "trasl = None\n",
    "rot = None\n",
    "metric = ks.Geometry([ks.Lethargy(10), ks.Guide(7, 20, 300)], trasl=trasl, rot=rot)\n",
    "\n",
    "#Crear KSource\n",
    "\n",
    "J = 1\n",
    "s = ks.KSource(plist, metric, bw=\"silv\", J=J)"
   ]
  },
  {
   "cell_type": "code",
   "execution_count": null,
   "metadata": {},
   "outputs": [],
   "source": [
    "# Fuente de tracks inicial\n",
    "\n",
    "# Abrir lista de particulas\n",
    "\n",
    "tracksfile = \"Ftes_tracks/GF12p_n\"\n",
    "readformat = \"PTRAC\"\n",
    "pt = 'n'\n",
    "trasl = [118.5497276, -102.897199, 5.0]\n",
    "rot = [0.0, 0.0, -158*np.pi/180.0]\n",
    "x2z = True\n",
    "\n",
    "set_params = True\n",
    "plist = ks.PList(readformat, tracksfile, pt=pt, trasl=trasl, rot=rot, switch_x2z=x2z, set_params=set_params)\n",
    "\n",
    "# Crear Metrica\n",
    "\n",
    "trasl = None\n",
    "rot = None\n",
    "metric = ks.Geometry([ks.Lethargy(10), ks.SurfXY(0), ks.Polar()], trasl=trasl, rot=rot)\n",
    "\n",
    "#Crear KSource\n",
    "\n",
    "J = 3.669E+15\n",
    "bw = \"silv\"\n",
    "s = ks.KSource(plist, metric, bw=bw, J=J)"
   ]
  },
  {
   "cell_type": "code",
   "execution_count": null,
   "metadata": {},
   "outputs": [],
   "source": [
    "# Guia\n",
    "\n",
    "# Abrir lista de particulas\n",
    "\n",
    "tracks = \"1_guia_n_mlcv/BC_tracks.ssv\"\n",
    "readformat = \"SSV\"\n",
    "trasl = None\n",
    "rot = None\n",
    "x2z = False\n",
    "\n",
    "set_params = True\n",
    "plist = ks.PList(readformat, tracks, trasl=trasl, rot=rot, switch_x2z=x2z, set_params=set_params)\n",
    "\n",
    "# Crear Metrica\n",
    "\n",
    "trasl = None\n",
    "rot = None\n",
    "metric = ks.Geometry([ks.Lethargy(10), ks.Guide(7, 20, 300)], trasl=trasl, rot=rot)\n",
    "\n",
    "#Crear KSource\n",
    "\n",
    "J = 1\n",
    "s = ks.KSource(plist, metric, bw=\"silv\", J=J)"
   ]
  },
  {
   "cell_type": "code",
   "execution_count": null,
   "metadata": {},
   "outputs": [],
   "source": [
    "# Fuente de activacion\n",
    "\n",
    "# Abrir lista de particulas\n",
    "\n",
    "tracks = [\"Decay/Fe59.csv\", \"2_bunker_n_bw0/activ_fe.ssv\", None]\n",
    "readformat = [\"Decay\", \"SSVtally\", \"Isotrop\"]\n",
    "trasl = None\n",
    "rot = None\n",
    "x2z = False\n",
    "\n",
    "set_params = True\n",
    "plist = ks.PList(readformat, tracks, trasl=trasl, rot=rot, switch_x2z=x2z, set_params=set_params)\n",
    "\n",
    "# Crear Metrica\n",
    "\n",
    "trasl = None\n",
    "rot = None\n",
    "metric = ks.Geometry([ks.Lethargy(10), ks.Vol(), ks.Isotrop()], trasl=trasl, rot=rot)\n",
    "\n",
    "#Crear KSource\n",
    "\n",
    "J = 1\n",
    "s = ks.KSource(plist, metric, bw=\"silv\", J=J)"
   ]
  },
  {
   "cell_type": "markdown",
   "metadata": {},
   "source": [
    "# Optimizar BW"
   ]
  },
  {
   "cell_type": "code",
   "execution_count": null,
   "metadata": {},
   "outputs": [],
   "source": [
    "# Metodo de Silverman\n",
    "\n",
    "s.bw_method = \"silv\"\n",
    "N = 1E4\n",
    "s.fit(N, N_tot=2991283)\n",
    "s.save_bw(tracksfile[:-4]+\"_bw_silv.txt\")"
   ]
  },
  {
   "cell_type": "code",
   "execution_count": null,
   "metadata": {},
   "outputs": [],
   "source": [
    "# Metodo de Max Likelihood Cross Validation\n",
    "\n",
    "s.bw_method = \"mlcv\"\n",
    "N = 1E4\n",
    "s.fit(N, N_tot=s.plist.N, steps=20, max_fact=2, shift=.5)\n",
    "s.save_bw(tracksfile[:-4]+\"_bw_mlcv.txt\")"
   ]
  },
  {
   "cell_type": "code",
   "execution_count": null,
   "metadata": {
    "scrolled": false
   },
   "outputs": [],
   "source": [
    "# Metodo de K Nearest Neighbours\n",
    "\n",
    "s.bw_method = \"knn\"\n",
    "N = 1e5\n",
    "s.fit(N)#, N_tot=100000)#2991283)\n",
    "s.save_bw(tracksfile[:-4]+\"_bw_knn.txt\")\n",
    "\n",
    "print(\"Mean bw:\")\n",
    "print(s.bw.mean(axis=0))"
   ]
  },
  {
   "cell_type": "code",
   "execution_count": null,
   "metadata": {},
   "outputs": [],
   "source": [
    "# Graficos de bw variable\n",
    "\n",
    "if N>s.plist.N: N = s.plist.N\n",
    "bws = (s.bw / s.metric.std(vecs=s.vecs))[:,0]\n",
    "\n",
    "Es = s.metric.E.inverse_transform(s.vecs[:N,0])\n",
    "plt.plot(Es, bws, 'o')\n",
    "plt.ylabel(\"bandwidth\")\n",
    "plt.xlabel(\"E [MeV]\")\n",
    "plt.xscale(\"log\")\n",
    "plt.show()\n",
    "\n",
    "xs = s.vecs[:N,1]\n",
    "ys = s.vecs[:N,2]\n",
    "plt.scatter(xs, ys, c=bws)\n",
    "plt.colorbar()\n",
    "plt.xlabel(\"x [cm]\")\n",
    "plt.ylabel(\"y [cm]\")\n",
    "plt.show()\n",
    "\n",
    "mus = s.vecs[:N,5]\n",
    "plt.plot(mus, bws, 'o')\n",
    "plt.ylabel(\"bandwidth\")\n",
    "plt.xlabel(\"mu []\")\n",
    "plt.show()"
   ]
  },
  {
   "cell_type": "markdown",
   "metadata": {},
   "source": [
    "# Guardar KSource"
   ]
  },
  {
   "cell_type": "code",
   "execution_count": null,
   "metadata": {},
   "outputs": [],
   "source": [
    "filename = tracksfile[:-4]+\"_source.txt\"\n",
    "bwfilename = tracksfile[:-4]+\"_bw_knn.txt\"\n",
    "s.save(filename, bwfilename)"
   ]
  },
  {
   "cell_type": "code",
   "execution_count": null,
   "metadata": {},
   "outputs": [],
   "source": []
  }
 ],
 "metadata": {
  "kernelspec": {
   "display_name": "Python 3",
   "language": "python",
   "name": "python3"
  },
  "language_info": {
   "codemirror_mode": {
    "name": "ipython",
    "version": 3
   },
   "file_extension": ".py",
   "mimetype": "text/x-python",
   "name": "python",
   "nbconvert_exporter": "python",
   "pygments_lexer": "ipython3",
   "version": "3.6.9"
  }
 },
 "nbformat": 4,
 "nbformat_minor": 2
}
