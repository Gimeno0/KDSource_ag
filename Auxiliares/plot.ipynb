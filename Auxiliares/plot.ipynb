{
 "cells": [
  {
   "cell_type": "code",
   "execution_count": null,
   "metadata": {},
   "outputs": [],
   "source": [
    "import numpy as np\n",
    "import matplotlib.pyplot as plt\n",
    "np.set_printoptions(precision=3)\n",
    "\n",
    "import ksource_py as ks"
   ]
  },
  {
   "cell_type": "code",
   "execution_count": null,
   "metadata": {},
   "outputs": [],
   "source": [
    "%matplotlib notebook"
   ]
  },
  {
   "cell_type": "markdown",
   "metadata": {},
   "source": [
    "## Crear KSource\n",
    "#### Se recomienda completar plantilla en una celda duplicada"
   ]
  },
  {
   "cell_type": "code",
   "execution_count": null,
   "metadata": {},
   "outputs": [],
   "source": [
    "# Abrir lista de particulas\n",
    "\n",
    "tracksfile = \"filename\"\n",
    "readformat = \"SSV\" # \"SSV\", \"PTRAC\", \"Decay\"\n",
    "trasl = None\n",
    "rot = None\n",
    "x2z = False\n",
    "\n",
    "set_params = True\n",
    "plist = ks.PList(readformat, tracksfile, trasl=trasl, rot=rot, switch_x2z=x2z, set_params=set_params)\n",
    "\n",
    "# Crear Metrica\n",
    "\n",
    "trasl = None\n",
    "rot = None\n",
    "metric = ks.Geometry([ks.Lethargy(10), ks.Guide(7, 20, 300)], trasl=trasl, rot=rot)\n",
    "\n",
    "#Crear KSource\n",
    "\n",
    "J = 1\n",
    "s = ks.KSource(plist, metric, bw=\"silv\", J=J)"
   ]
  },
  {
   "cell_type": "code",
   "execution_count": null,
   "metadata": {},
   "outputs": [],
   "source": [
    "# Fuente de tracks inicial\n",
    "\n",
    "# Abrir lista de particulas\n",
    "\n",
    "tracksfile = \"Ftes_tracks/GF12p_n\"\n",
    "readformat = \"PTRAC\"\n",
    "pt = 'n'\n",
    "trasl = [118.5497276, -102.897199, 5.0]\n",
    "rot = [0.0, 0.0, -158*np.pi/180.0]\n",
    "x2z = True\n",
    "\n",
    "set_params = True\n",
    "plist = ks.PList(readformat, tracksfile, pt=pt, trasl=trasl, rot=rot, switch_x2z=x2z, set_params=set_params)\n",
    "\n",
    "# Crear Metrica\n",
    "\n",
    "trasl = None\n",
    "rot = None\n",
    "metric = ks.Geometry([ks.Lethargy(10), ks.SurfXY(0), ks.Polar()], trasl=trasl, rot=rot)\n",
    "\n",
    "#Crear KSource\n",
    "\n",
    "J = 3.669E+15\n",
    "bw = \"silv\"\n",
    "s = ks.KSource(plist, metric, bw=bw, J=J)"
   ]
  },
  {
   "cell_type": "code",
   "execution_count": null,
   "metadata": {},
   "outputs": [],
   "source": [
    "# Guia\n",
    "\n",
    "# Abrir lista de particulas\n",
    "\n",
    "tracks = \"1_guia_n_mlcv/BC_tracks.ssv\"\n",
    "readformat = \"SSV\"\n",
    "trasl = None\n",
    "rot = None\n",
    "x2z = False\n",
    "\n",
    "set_params = True\n",
    "plist = ks.PList(readformat, tracks, trasl=trasl, rot=rot, switch_x2z=x2z, set_params=set_params)\n",
    "\n",
    "# Crear Metrica\n",
    "\n",
    "trasl = None\n",
    "rot = None\n",
    "metric = ks.Geometry([ks.Lethargy(10), ks.Guide(7, 20, 300)], trasl=trasl, rot=rot)\n",
    "\n",
    "#Crear KSource\n",
    "\n",
    "J = 1\n",
    "s = ks.KSource(plist, metric, bw=\"silv\", J=J)"
   ]
  },
  {
   "cell_type": "code",
   "execution_count": null,
   "metadata": {},
   "outputs": [],
   "source": [
    "# Fuente de activacion\n",
    "\n",
    "# Abrir lista de particulas\n",
    "\n",
    "tracks = [\"Decay/Fe59.csv\", \"2_bunker_n_bw0/activ_fe.ssv\", None]\n",
    "readformat = [\"Decay\", \"SSVtally\", \"Isotrop\"]\n",
    "trasl = None\n",
    "rot = None\n",
    "x2z = False\n",
    "\n",
    "set_params = True\n",
    "plist = ks.PList(readformat, tracks, trasl=trasl, rot=rot, switch_x2z=x2z, set_params=set_params)\n",
    "\n",
    "# Crear Metrica\n",
    "\n",
    "trasl = None\n",
    "rot = None\n",
    "metric = ks.Geometry([ks.Lethargy(10), ks.Vol(), ks.Isotrop()], trasl=trasl, rot=rot)\n",
    "\n",
    "#Crear KSource\n",
    "\n",
    "J = 1\n",
    "s = ks.KSource(plist, metric, bw=\"silv\", J=J)"
   ]
  },
  {
   "cell_type": "code",
   "execution_count": null,
   "metadata": {
    "scrolled": true
   },
   "outputs": [],
   "source": [
    "# Ajustar KSource\n",
    "\n",
    "N = 1e5 # Cantidad de particulas a utilizar\n",
    "s.fit(N)\n",
    "s.bw /= 5 # Para graficos integrales puede usarse una bw mas baja"
   ]
  },
  {
   "cell_type": "markdown",
   "metadata": {},
   "source": [
    "## Evaluar estadistica"
   ]
  },
  {
   "cell_type": "code",
   "execution_count": null,
   "metadata": {},
   "outputs": [],
   "source": [
    "Emin = 1e-9\n",
    "dzmax = np.sqrt(1-0.01**2)\n",
    "box = ks.Box([Emin,None,None,None,None,None,dzmax], None)\n",
    "\n",
    "parts,ws = plist.get()\n",
    "tracks = ks.Tracks(parts, ws, box)\n",
    "\n",
    "N,mn,err = tracks.intensity(steps=100)\n",
    "plt.show()\n",
    "\n",
    "N,mn,err = tracks.mean(var=3, steps=100)\n",
    "plt.show()"
   ]
  },
  {
   "cell_type": "markdown",
   "metadata": {},
   "source": [
    "## Crear graficos"
   ]
  },
  {
   "cell_type": "code",
   "execution_count": null,
   "metadata": {},
   "outputs": [],
   "source": [
    "# Graficos en E\n",
    "\n",
    "vec0 = None # [0, -30,-30, 0.99,-180] # \n",
    "vec1 = None # [25, 30,30, 1,180]      # \n",
    "EE = np.logspace(-9.8,0,100)\n",
    "fig,scores = s.plot_E(EE, vec0, vec1)\n",
    "plt.show()"
   ]
  },
  {
   "cell_type": "code",
   "execution_count": null,
   "metadata": {},
   "outputs": [],
   "source": [
    "# Graficos en xy\n",
    "\n",
    "vec0 = None # [0, -30,-30, 0,-180]\n",
    "vec1 = None # [25, 30,30, 1,180]\n",
    "xx = np.linspace(-30,30,30)\n",
    "yy = np.linspace(-30,30,30)\n",
    "fig,scores = s.plot2D_integr([xx,yy], [\"x\",\"y\"], vec0, vec1)\n",
    "plt.show()"
   ]
  },
  {
   "cell_type": "code",
   "execution_count": null,
   "metadata": {},
   "outputs": [],
   "source": [
    "# Graficos en zx\n",
    "\n",
    "vec0 = None # [0, -10,-15,-10, -1,-1,-1]\n",
    "vec1 = None # [25, 30,15,2360, 1,1,1]\n",
    "zz = np.linspace(-10,2360,30)\n",
    "xx = np.linspace(-10,30,30)\n",
    "fig,scores = s.plot2D_integr([zz,xx], [\"z\",\"x\"], vec0, vec1)\n",
    "plt.show()"
   ]
  },
  {
   "cell_type": "code",
   "execution_count": null,
   "metadata": {},
   "outputs": [],
   "source": [
    "# Graficos en zt (guia)\n",
    "\n",
    "DZ = 400\n",
    "\n",
    "vec0 = None # [0, 0,0, -1,-1,-1]\n",
    "vec1 = None # [25, DZ,54, 1,1,1] \n",
    "zz = np.linspace(0,DZ,50)\n",
    "fig,scores = s.plot_integr(zz, 1, vec0, vec1)\n",
    "plt.show(block=True)\n",
    "\n",
    "vec0 = None # [0, 0,0, -1,-1,-1]\n",
    "vec1 = None # [25, DZ,54, 1,1,1] \n",
    "tt = np.linspace(0,54,50)\n",
    "fig,scores = s.plot_integr(tt, 2, vec0, vec1)\n",
    "plt.show(block=True)\n",
    "\n",
    "vec0 = None # [0, 0,0, -1,-1,-1] # [0, -30,-30, 0,-np.pi]\n",
    "vec1 = None # [25, DZ,54, 1,1,1] # [25, 30,30, 1,np.pi]\n",
    "zz = np.linspace(0,DZ,30)\n",
    "tt = np.linspace(0,54,30)\n",
    "fig,scores = s.plot2D_integr([zz,tt], [\"z\",\"t\"], vec0, vec1, scale=\"log\")\n",
    "plt.show(block=True)"
   ]
  },
  {
   "cell_type": "code",
   "execution_count": null,
   "metadata": {},
   "outputs": [],
   "source": [
    "# Graficos polares\n",
    "\n",
    "vec0 = None # [20, -30,-30, 0,-180]\n",
    "vec1 = None # [25, 30,30, 1,180]\n",
    "mm = np.linspace(0,1,50)\n",
    "fig,scores = s.plot_integr(mm, 3, vec0, vec1)\n",
    "plt.show()\n",
    "\n",
    "vec0 = None # [0, -30,-30, 0,-180]\n",
    "vec1 = None # [25, 30,30, 180,180]\n",
    "pp = np.linspace(-180,180,50)\n",
    "fig,scores = s.plot_integr(pp, 4, vec0, vec1)\n",
    "plt.show()\n",
    "\n",
    "vec0 = None # [0, -30,-30, 0,-180]\n",
    "vec1 = None # [25, 30,30, 180,180]\n",
    "mm = np.linspace(0,1,30)\n",
    "pp = np.linspace(-180,180,30)\n",
    "fig,[scores,errs] = s.plot2D_integr([mm,pp], [\"mu\",\"phi\"], vec0, vec1)\n",
    "plt.show()"
   ]
  },
  {
   "cell_type": "code",
   "execution_count": null,
   "metadata": {},
   "outputs": [],
   "source": [
    "# Graficos isotrop\n",
    "\n",
    "vec0 = None # [0, 0,0, -1,-1,-1]\n",
    "vec1 = None # [25, 500,20, 1,1,1] \n",
    "ddz = np.linspace(0.98,1,50)\n",
    "fig,scores = s.plot_integr(ddz, \"dz\", vec0, vec1)\n",
    "plt.show()\n",
    "\n",
    "vec0 = None # [0, 0,0, -1,-1,-1] # None # \n",
    "vec1 = None # [25, 300,20, 1,1,1] # None # \n",
    "ddy = np.linspace(-0.05,0.05,50)\n",
    "fig,scores = s.plot_integr(ddy, \"dy\", vec0, vec1)\n",
    "plt.show()\n",
    "\n",
    "vec0 = None # [0, 0,0, -1,-1,-1]\n",
    "vec1 = None # [25, 500,54, 1,1,1] \n",
    "ddx = np.linspace(-0.05,0.05,20)\n",
    "ddy = np.linspace(-0.05,0.05,20)\n",
    "fig,[scores,errs] = s.plot2D_integr([ddx,ddy], [\"dx\",\"dy\"], vec0, vec1)\n",
    "plt.show()"
   ]
  },
  {
   "cell_type": "code",
   "execution_count": null,
   "metadata": {},
   "outputs": [],
   "source": []
  }
 ],
 "metadata": {
  "kernelspec": {
   "display_name": "Python 3",
   "language": "python",
   "name": "python3"
  },
  "language_info": {
   "codemirror_mode": {
    "name": "ipython",
    "version": 3
   },
   "file_extension": ".py",
   "mimetype": "text/x-python",
   "name": "python",
   "nbconvert_exporter": "python",
   "pygments_lexer": "ipython3",
   "version": "3.6.9"
  }
 },
 "nbformat": 4,
 "nbformat_minor": 2
}
