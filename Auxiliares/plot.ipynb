{
 "cells": [
  {
   "cell_type": "code",
   "execution_count": null,
   "metadata": {},
   "outputs": [],
   "source": [
    "import numpy as np\n",
    "import matplotlib.pyplot as plt\n",
    "from sklearn.neighbors import KernelDensity\n",
    "from sklearn.model_selection import GridSearchCV,LeaveOneOut\n",
    "from scipy.interpolate import interp2d\n",
    "\n",
    "import ksource_py as ks"
   ]
  },
  {
   "cell_type": "code",
   "execution_count": null,
   "metadata": {},
   "outputs": [],
   "source": [
    "np.set_printoptions(precision=3)"
   ]
  },
  {
   "cell_type": "code",
   "execution_count": null,
   "metadata": {},
   "outputs": [],
   "source": [
    "# Abrir lista de particulas\n",
    "\n",
    "filename = \"GF12p_n\"\n",
    "trasl = [118.5497276, -102.897199, 5.0]\n",
    "rot = [0.0, 0.0, -158*np.pi/180.0]\n",
    "x2z = True\n",
    "plist = ks.PList(ks.PTRAC_read, filename, trasl=trasl, rot=rot, switch_x2z=x2z, set_params=False)\n",
    "print(\"N =\", plist.N)\n",
    "print(\"I =\", plist.I)\n",
    "print(\"err =\", np.sqrt(plist.p2))"
   ]
  },
  {
   "cell_type": "code",
   "execution_count": null,
   "metadata": {},
   "outputs": [],
   "source": [
    "# Crear KSource\n",
    "\n",
    "J = 1\n",
    "metric = ks.SepVarMetric(ks.Lethargy(10), ks.SurfXY(0), ks.Isotrop())\n",
    "s = ks.KSource(metric, bw=[0.3, 2,2, 0.1,0.1,0.1], J=J)\n",
    "s.fit(plist=plist, N=1e4)"
   ]
  },
  {
   "cell_type": "code",
   "execution_count": null,
   "metadata": {},
   "outputs": [],
   "source": [
    "# Graficos en E\n",
    "\n",
    "part0 = [1E-8, 0,0,0, 0,0,1]\n",
    "EE = np.logspace(-10,0,100)\n",
    "fig,scores = s.plot_point(EE, 0, part0)\n",
    "plt.show()\n",
    "\n",
    "vec0 = [0, -20,-20, -1,-1,-1]\n",
    "vec1 = [25, 20,20, 1,1,1]\n",
    "EE = np.logspace(-10,0,100)\n",
    "fig,scores = s.plot_E(EE, vec0, vec1)\n",
    "plt.show()"
   ]
  },
  {
   "cell_type": "code",
   "execution_count": null,
   "metadata": {},
   "outputs": [],
   "source": [
    "# Graficos en xy\n",
    "\n",
    "part0 = [1E-8, 0,0,0, 0,0,1]\n",
    "xx = np.linspace(-30,30,30)\n",
    "yy = np.linspace(-30,30,30)\n",
    "fig,scores = s.plot2D_point([xx,yy], [1,2], part0)\n",
    "plt.show()\n",
    "\n",
    "vec0 = [0, -30,-30, -1,-1,-1]\n",
    "vec1 = [25, 30,30, 1,1,1]\n",
    "xx = np.linspace(-30,30,30)\n",
    "yy = np.linspace(-30,30,30)\n",
    "fig,scores = s.plot2D_integr([xx,yy], [1,2], vec0, vec1)\n",
    "plt.show()"
   ]
  },
  {
   "cell_type": "code",
   "execution_count": null,
   "metadata": {},
   "outputs": [],
   "source": [
    "# Graficos de direccion"
   ]
  },
  {
   "cell_type": "code",
   "execution_count": null,
   "metadata": {},
   "outputs": [],
   "source": [
    "# Metrica Isotrop\n",
    "\n",
    "part0 = [1E-8, 0,0,0, 0,0,1]\n",
    "ddx = np.linspace(-0.5,0.5,20)\n",
    "ddy = np.linspace(-0.5,0.5,20)\n",
    "fig,scores = s.plot2D_point([ddx,ddy], [4,5], part0)\n",
    "plt.show()\n",
    "\n",
    "vec0 = [0, -30,-30, -1,-1,-1]\n",
    "vec1 = [25, 30,30, 1,1,1]\n",
    "ddx = np.linspace(-0.5,0.5,20)\n",
    "ddy = np.linspace(-0.5,0.5,20)\n",
    "fig,scores = s.plot2D_integr([ddx,ddy], [3,4], vec0, vec1)\n",
    "plt.show()"
   ]
  },
  {
   "cell_type": "code",
   "execution_count": null,
   "metadata": {},
   "outputs": [],
   "source": [
    "# Metrica Polar\n",
    "\n",
    "metric = ks.SepVarMetric(ks.Lethargy(10), ks.SurfXY(0), ks.Polar())\n",
    "s = ks.KSource(metric, bw=[0.5, 10,10, 0.05,np.pi/90])\n",
    "s.fit(plist=plist, N=1e4)\n",
    "\n",
    "vec0 = [0, -30,-30, 0,-np.pi]\n",
    "vec1 = [25, 30,30, 1,np.pi]\n",
    "mm = np.linspace(0,1,50)\n",
    "fig,scores = s.plot_integr(mm, 3, vec0, vec1)\n",
    "plt.show()\n",
    "\n",
    "vec0 = [0, -30,-30, 0,-np.pi]\n",
    "vec1 = [25, 30,30, np.pi,np.pi]\n",
    "pp = np.linspace(-np.pi,np.pi,50)\n",
    "fig,scores = s.plot_integr(pp, 4, vec0, vec1)\n",
    "plt.show()\n",
    "\n",
    "vec0 = [0, -30,-30, 0,-np.pi]\n",
    "vec1 = [25, 30,30, np.pi,np.pi]\n",
    "mm = np.linspace(0,1,50)\n",
    "pp = np.linspace(-np.pi,np.pi,50)\n",
    "fig,scores = s.plot2D_integr([mm,pp], [3,4], vec0, vec1)\n",
    "plt.show()"
   ]
  },
  {
   "cell_type": "code",
   "execution_count": null,
   "metadata": {},
   "outputs": [],
   "source": []
  }
 ],
 "metadata": {
  "kernelspec": {
   "display_name": "Python 3",
   "language": "python",
   "name": "python3"
  },
  "language_info": {
   "codemirror_mode": {
    "name": "ipython",
    "version": 3
   },
   "file_extension": ".py",
   "mimetype": "text/x-python",
   "name": "python",
   "nbconvert_exporter": "python",
   "pygments_lexer": "ipython3",
   "version": "3.6.9"
  }
 },
 "nbformat": 4,
 "nbformat_minor": 2
}
