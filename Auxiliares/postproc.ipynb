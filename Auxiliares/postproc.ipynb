{
 "cells": [
  {
   "cell_type": "code",
   "execution_count": null,
   "metadata": {},
   "outputs": [],
   "source": [
    "import numpy as np\n",
    "import matplotlib.pyplot as plt\n",
    "\n",
    "import ksource_py as ks"
   ]
  },
  {
   "cell_type": "markdown",
   "metadata": {},
   "source": [
    "# Crear summary de simulacion\n",
    "#### Se recomienda completar plantilla en una celda duplicada"
   ]
  },
  {
   "cell_type": "code",
   "execution_count": null,
   "metadata": {},
   "outputs": [],
   "source": [
    "mccode = \"mccode\" # \"McStas\", \"Tripoli\"\n",
    "folder = \"folder\"\n",
    "bashoutput = \"bash.out\"\n",
    "n_detectors=[]\n",
    "p_detectors=[]\n",
    "t4output=None\n",
    "tallies=[]\n",
    "\n",
    "summary = ks.Summary(mccode,\n",
    "                     folder,\n",
    "                     bashoutput=bashoutput, \n",
    "                     n_detectors=n_detectors, \n",
    "                     p_detectors=p_detectors, \n",
    "                     t4output=t4output,\n",
    "                     tallies=tallies)"
   ]
  },
  {
   "cell_type": "code",
   "execution_count": null,
   "metadata": {},
   "outputs": [],
   "source": [
    "mccode = \"McStas\"\n",
    "folder = \"1_guia_n\"\n",
    "bashoutput = \"bash.out\"\n",
    "n_detectors=[\"BC_tracks.ssv\", \"D_tracks.ssv\", \"E_tracks.ssv\", \"salida_tracks.ssv\"]\n",
    "p_detectors=[]\n",
    "t4output=None\n",
    "tallies=[]\n",
    "\n",
    "summary = ks.Summary(mccode,\n",
    "                     folder,\n",
    "                     bashoutput=bashoutput, \n",
    "                     n_detectors=n_detectors, \n",
    "                     p_detectors=p_detectors, \n",
    "                     t4output=t4output,\n",
    "                     tallies=tallies)\n",
    "summary.compute()"
   ]
  },
  {
   "cell_type": "markdown",
   "metadata": {},
   "source": [
    "# Guardar summary"
   ]
  },
  {
   "cell_type": "code",
   "execution_count": null,
   "metadata": {},
   "outputs": [],
   "source": [
    "filename = \"summary.txt\"\n",
    "\n",
    "summary.save(filename)"
   ]
  },
  {
   "cell_type": "code",
   "execution_count": null,
   "metadata": {},
   "outputs": [],
   "source": []
  }
 ],
 "metadata": {
  "kernelspec": {
   "display_name": "Python 3",
   "language": "python",
   "name": "python3"
  },
  "language_info": {
   "codemirror_mode": {
    "name": "ipython",
    "version": 3
   },
   "file_extension": ".py",
   "mimetype": "text/x-python",
   "name": "python",
   "nbconvert_exporter": "python",
   "pygments_lexer": "ipython3",
   "version": "3.6.9"
  }
 },
 "nbformat": 4,
 "nbformat_minor": 2
}
