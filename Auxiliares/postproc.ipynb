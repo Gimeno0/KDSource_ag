{
 "cells": [
  {
   "cell_type": "code",
   "execution_count": 1,
   "metadata": {},
   "outputs": [],
   "source": [
    "import numpy as np\n",
    "import matplotlib.pyplot as plt\n",
    "\n",
    "import ksource_py as ks"
   ]
  },
  {
   "cell_type": "markdown",
   "metadata": {},
   "source": [
    "# Crear summary de simulacion\n",
    "#### Se recomienda completar plantilla en una celda duplicada"
   ]
  },
  {
   "cell_type": "code",
   "execution_count": null,
   "metadata": {},
   "outputs": [],
   "source": [
    "mccode = \"mccode\" # \"McStas\", \"Tripoli\"\n",
    "folder = \"folder\"\n",
    "bashoutput = \"bash.out\"\n",
    "n_detectors=[]\n",
    "p_detectors=[]\n",
    "t4output=None\n",
    "tallies=[]\n",
    "\n",
    "summary = ks.Summary(mccode,\n",
    "                     folder,\n",
    "                     bashoutput=bashoutput, \n",
    "                     n_detectors=n_detectors, \n",
    "                     p_detectors=p_detectors, \n",
    "                     t4output=t4output,\n",
    "                     tallies=tallies)"
   ]
  },
  {
   "cell_type": "code",
   "execution_count": 2,
   "metadata": {},
   "outputs": [
    {
     "name": "stdout",
     "output_type": "stream",
     "text": [
      "Using existing file 1_guia_n/BC_tracks.mcpl.gz\n",
      "I = 60168.03276604031\n",
      "p2 = 60053.017684366016\n",
      "N = 61484\n",
      "Using existing file 1_guia_n/D_tracks.mcpl.gz\n",
      "I = 490.71766080904985\n",
      "p2 = 333.4677034391903\n",
      "N = 8338\n",
      "Using existing file 1_guia_n/E_tracks.mcpl.gz\n",
      "I = 74.71893267082133\n",
      "p2 = 2.777741117642684\n",
      "N = 12668\n",
      "Using existing file 1_guia_n/salida_tracks.mcpl.gz\n",
      "I = 165.5306405604337\n",
      "p2 = 112.86767874915695\n",
      "N = 850\n"
     ]
    }
   ],
   "source": [
    "# Corrida de McStas en guia\n",
    "\n",
    "mccode = \"McStas\"\n",
    "folder = \"1_guia_n\"\n",
    "bashoutput = \"bash.out\"\n",
    "n_detectors=[\"BC_tracks.mcpl.gz\", \"D_tracks.mcpl.gz\", \"E_tracks.mcpl.gz\", \"salida_tracks.mcpl.gz\"]\n",
    "p_detectors=[]\n",
    "t4output=None\n",
    "tallies=[]\n",
    "\n",
    "summary = ks.Summary(mccode,\n",
    "                     folder,\n",
    "                     bashoutput=bashoutput, \n",
    "                     n_detectors=n_detectors, \n",
    "                     p_detectors=p_detectors, \n",
    "                     t4output=t4output,\n",
    "                     tallies=tallies)\n",
    "summary.compute()"
   ]
  },
  {
   "cell_type": "code",
   "execution_count": 2,
   "metadata": {},
   "outputs": [
    {
     "name": "stdout",
     "output_type": "stream",
     "text": [
      "Using existing file 2_bunker_n/frente_n_1_.mcpl.gz\n",
      "I = 0\n",
      "p2 = 0\n",
      "N = 0\n",
      "Using existing file 2_bunker_n/lat_n_1_.mcpl.gz\n",
      "I = 0\n",
      "p2 = 0\n",
      "N = 0\n",
      "Using existing file 2_bunker_n/frente_p_1_.mcpl.gz\n",
      "I = 0\n",
      "p2 = 0\n",
      "N = 0\n",
      "Using existing file 2_bunker_n/lat_p_1_.mcpl.gz\n",
      "I = 3.4835899472236633\n",
      "p2 = 3.198839609670504\n",
      "N = 4\n",
      "Tally mapa_activ_fe leido exitosamente\n",
      "Tally mapa_activ_al leido exitosamente\n"
     ]
    }
   ],
   "source": [
    "# Corrida de Tripoli en bunker\n",
    "\n",
    "mccode = \"Tripoli\"\n",
    "folder = \"2_bunker_n\"\n",
    "bashoutput = \"bash.out\"\n",
    "n_detectors=[\"frente_n_1_.stock\", \"lat_n_1_.stock\"]\n",
    "p_detectors=[\"frente_p_1_.stock\", \"lat_p_1_.stock\"]\n",
    "t4output=folder+\".out\"\n",
    "tallies=[\"mapa_activ_fe\", \"mapa_activ_al\"]\n",
    "\n",
    "summary = ks.Summary(mccode,\n",
    "                     folder,\n",
    "                     bashoutput=bashoutput, \n",
    "                     n_detectors=n_detectors, \n",
    "                     p_detectors=p_detectors, \n",
    "                     t4output=t4output,\n",
    "                     tallies=tallies)\n",
    "summary.compute()"
   ]
  },
  {
   "cell_type": "markdown",
   "metadata": {},
   "source": [
    "# Guardar summary"
   ]
  },
  {
   "cell_type": "code",
   "execution_count": 3,
   "metadata": {},
   "outputs": [
    {
     "name": "stdout",
     "output_type": "stream",
     "text": [
      "Summary guardado exitosamente\n"
     ]
    }
   ],
   "source": [
    "filename = \"summary.txt\"\n",
    "\n",
    "summary.save(filename) # Se guarda dentro de summary.folder"
   ]
  },
  {
   "cell_type": "code",
   "execution_count": null,
   "metadata": {},
   "outputs": [],
   "source": []
  }
 ],
 "metadata": {
  "kernelspec": {
   "display_name": "Python 3",
   "language": "python",
   "name": "python3"
  },
  "language_info": {
   "codemirror_mode": {
    "name": "ipython",
    "version": 3
   },
   "file_extension": ".py",
   "mimetype": "text/x-python",
   "name": "python",
   "nbconvert_exporter": "python",
   "pygments_lexer": "ipython3",
   "version": "3.6.9"
  }
 },
 "nbformat": 4,
 "nbformat_minor": 2
}
