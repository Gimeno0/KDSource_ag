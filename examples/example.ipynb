{
 "cells": [
  {
   "cell_type": "code",
   "execution_count": 1,
   "metadata": {},
   "outputs": [],
   "source": [
    "import numpy as np\n",
    "import matplotlib.pyplot as plt\n",
    "np.set_printoptions(precision=3)\n",
    "\n",
    "import ksource_py as ks\n",
    "import mcpl"
   ]
  },
  {
   "cell_type": "code",
   "execution_count": 13,
   "metadata": {},
   "outputs": [],
   "source": [
    "%matplotlib inline"
   ]
  },
  {
   "cell_type": "markdown",
   "metadata": {},
   "source": [
    "# Generar muestras artificiales"
   ]
  },
  {
   "cell_type": "code",
   "execution_count": 3,
   "metadata": {
    "scrolled": true
   },
   "outputs": [
    {
     "name": "stdout",
     "output_type": "stream",
     "text": [
      "Using existing file samples.mcpl.gz\n"
     ]
    }
   ],
   "source": [
    "N = int(1E5)\n",
    "\n",
    "pt = \"n\"\n",
    "su = 1\n",
    "Es = np.exp(np.random.normal(0, 1, (N,1)))\n",
    "sx = sy = 10\n",
    "poss = np.random.normal([0,0,0], [sx,sy,0], (N,3))\n",
    "sdx = sdy = .1\n",
    "dirs = np.random.normal([0,0,0], [sdx,sdy,0], (N,3))\n",
    "dirs[:,2] = np.sqrt(1-dirs[:,0]**2-dirs[:,1]**2)\n",
    "parts = np.concatenate((Es,poss,dirs), axis=1)\n",
    "ws = np.random.normal(1, 0.1, N)\n",
    "\n",
    "tracksfile = \"samples.ssv\" # \"tracks.ssv\"\n",
    "ks.savessv(pt, parts, ws, tracksfile)\n",
    "mcplfile = ks.convert2mcpl(tracksfile, \"ssv\")"
   ]
  },
  {
   "cell_type": "markdown",
   "metadata": {},
   "source": [
    "# Crear KSource"
   ]
  },
  {
   "cell_type": "code",
   "execution_count": 4,
   "metadata": {},
   "outputs": [
    {
     "name": "stdout",
     "output_type": "stream",
     "text": [
      "Using existing file samples.mcpl.gz\n",
      "I = 99983.55857640505\n",
      "p2 = 100974.8363935386\n",
      "N = 100000\n"
     ]
    }
   ],
   "source": [
    "J = 1\n",
    "set_params = True\n",
    "plist = ks.PList(mcplfile, set_params=set_params)\n",
    "geom = ks.Geometry([ks.Lethargy(), ks.SurfXY(), ks.Isotrop()])\n",
    "s = ks.KSource(plist, geom, bw=\"silv\", J=J)"
   ]
  },
  {
   "cell_type": "code",
   "execution_count": 12,
   "metadata": {
    "scrolled": true
   },
   "outputs": [
    {
     "name": "stdout",
     "output_type": "stream",
     "text": [
      "Usando 10000 particulas para entrenamiento\n",
      "Calculando bw ... \n",
      "Fitting 10 folds for each of 20 candidates, totalling 200 fits\n"
     ]
    },
    {
     "name": "stderr",
     "output_type": "stream",
     "text": [
      "[Parallel(n_jobs=-1)]: Using backend LokyBackend with 8 concurrent workers.\n",
      "[Parallel(n_jobs=-1)]: Done   2 tasks      | elapsed:    1.7s\n",
      "[Parallel(n_jobs=-1)]: Done   9 tasks      | elapsed:    2.6s\n",
      "[Parallel(n_jobs=-1)]: Done  16 tasks      | elapsed:    2.8s\n",
      "[Parallel(n_jobs=-1)]: Done  25 tasks      | elapsed:    4.6s\n",
      "[Parallel(n_jobs=-1)]: Done  34 tasks      | elapsed:    5.7s\n",
      "[Parallel(n_jobs=-1)]: Done  45 tasks      | elapsed:    6.8s\n",
      "[Parallel(n_jobs=-1)]: Done  56 tasks      | elapsed:    8.1s\n",
      "[Parallel(n_jobs=-1)]: Done  69 tasks      | elapsed:   10.2s\n",
      "[Parallel(n_jobs=-1)]: Done  82 tasks      | elapsed:   12.5s\n",
      "[Parallel(n_jobs=-1)]: Done  97 tasks      | elapsed:   14.9s\n",
      "[Parallel(n_jobs=-1)]: Done 112 tasks      | elapsed:   17.3s\n",
      "[Parallel(n_jobs=-1)]: Done 129 tasks      | elapsed:   21.5s\n",
      "[Parallel(n_jobs=-1)]: Done 146 tasks      | elapsed:   24.8s\n",
      "[Parallel(n_jobs=-1)]: Done 165 tasks      | elapsed:   28.4s\n",
      "[Parallel(n_jobs=-1)]: Done 184 tasks      | elapsed:   32.3s\n"
     ]
    },
    {
     "name": "stdout",
     "output_type": "stream",
     "text": [
      "Hecho\n",
      "Optimal bw (mlcv) = [0.228 2.306 2.271 0.019 0.019 0.019]\n"
     ]
    },
    {
     "name": "stderr",
     "output_type": "stream",
     "text": [
      "[Parallel(n_jobs=-1)]: Done 200 out of 200 | elapsed:   35.3s finished\n"
     ]
    }
   ],
   "source": [
    "# Ajustar KSource\n",
    "\n",
    "N = -1 # Cantidad de particulas a utilizar\n",
    "s.bw_method = \"mlcv\" # silv, mlcv, knn\n",
    "s.fit(N)\n",
    "s.bw /= 5 # Para graficos integrales puede usarse una bw mas baja"
   ]
  },
  {
   "cell_type": "markdown",
   "metadata": {},
   "source": [
    "# Evaluar estadistica"
   ]
  },
  {
   "cell_type": "code",
   "execution_count": null,
   "metadata": {},
   "outputs": [],
   "source": [
    "# Con MCPL\n",
    "\n",
    "mcpl.dump_stats(mcpl.collect_stats(mcplfile))\n",
    "mcpl.plot_stats(mcplfile)"
   ]
  },
  {
   "cell_type": "code",
   "execution_count": null,
   "metadata": {},
   "outputs": [],
   "source": [
    "# Con ks.Stats\n",
    "\n",
    "# Intervalos de variables (box)\n",
    "dxymax = -1\n",
    "dzmin = np.sqrt(1-dxymax**2)\n",
    "maskfun = ks.Box([None,None,None,None,None,None,dzmin], None)\n",
    "\n",
    "# Funcion de peso\n",
    "fact_dosim = ks.H10(pt=plist.pt)\n",
    "weightfun = lambda parts: parts[:,0]\n",
    "\n",
    "parts,ws = plist.get()\n",
    "stats = ks.Stats(parts, ws, weightfun=weightfun, maskfun=maskfun)\n",
    "\n",
    "N,I,err = stats.mean_weight(steps=100)\n",
    "plt.show()\n",
    "N,mn,err = stats.mean(var=1, steps=100)\n",
    "plt.show()\n",
    "N,mn,err = stats.std(var=1, steps=100)\n",
    "plt.show()"
   ]
  },
  {
   "cell_type": "markdown",
   "metadata": {},
   "source": [
    "# Crear graficos"
   ]
  },
  {
   "cell_type": "code",
   "execution_count": 16,
   "metadata": {},
   "outputs": [
    {
     "data": {
      "image/png": "[encoded data removed]",
      "text/plain": [
       "<Figure size 432x288 with 1 Axes>"
      ]
     },
     "metadata": {
      "needs_background": "light"
     },
     "output_type": "display_data"
    }
   ],
   "source": [
    "# Graficos en E\n",
    "\n",
    "vec0 = None\n",
    "vec1 = None\n",
    "EE = np.logspace(-1,1,30)\n",
    "fig,scores = s.plot_E(EE, vec0, vec1)\n",
    "\n",
    "uu = np.log(1/EE)\n",
    "plt.plot(EE, 1/EE * np.exp(-uu**2/(2*su**2))/(su*np.sqrt(2*np.pi)), zorder=3, label=\"True\")\n",
    "plt.legend()\n",
    "\n",
    "plt.tight_layout()\n",
    "plt.savefig(\"ekin.pdf\")\n",
    "plt.show()"
   ]
  },
  {
   "cell_type": "code",
   "execution_count": 17,
   "metadata": {},
   "outputs": [
    {
     "data": {
      "image/png": "[encoded data removed]",
      "text/plain": [
       "<Figure size 432x288 with 1 Axes>"
      ]
     },
     "metadata": {
      "needs_background": "light"
     },
     "output_type": "display_data"
    }
   ],
   "source": [
    "# Graficos en x\n",
    "\n",
    "vec0 = None # [0, -30,-30, 0,-180]\n",
    "vec1 = None # [25, 30,30, 1,180]\n",
    "xx = np.linspace(-30,30,30)\n",
    "fig,scores = s.plot_integr(xx, \"x\", vec0, vec1)\n",
    "\n",
    "pdf = np.exp(-(xx/sx)**2/2)/(sx*np.sqrt(2*np.pi))\n",
    "plt.plot(xx, pdf, zorder=5, label=\"True\")\n",
    "plt.legend()\n",
    "\n",
    "plt.tight_layout()\n",
    "plt.savefig(\"x.pdf\")\n",
    "plt.show()\n"
   ]
  },
  {
   "cell_type": "code",
   "execution_count": 18,
   "metadata": {},
   "outputs": [
    {
     "data": {
      "image/png": "[encoded data removed]",
      "text/plain": [
       "<Figure size 432x288 with 1 Axes>"
      ]
     },
     "metadata": {
      "needs_background": "light"
     },
     "output_type": "display_data"
    }
   ],
   "source": [
    "# Graficos en dz\n",
    "\n",
    "vec0 = None # [20, -30,-30, 0,-180]\n",
    "vec1 = None # [25, 30,30, 1,180]\n",
    "ddz = np.linspace(0.9,1,30)\n",
    "fig,[scores,errs] = s.plot_integr(ddz, \"dz\", vec0, vec1)\n",
    "\n",
    "ddz = ddz[:30]\n",
    "ddx = np.sqrt(1-ddz**2)\n",
    "pdf = 2*np.pi*ddz * np.exp(-(ddx/sdx)**2/2)/(sdx*sdy*(2*np.pi))\n",
    "plt.plot(ddz, pdf, zorder=5, label=\"True\")\n",
    "\n",
    "plt.tight_layout()\n",
    "plt.savefig(\"dz.pdf\")\n",
    "plt.show()\n"
   ]
  },
  {
   "cell_type": "markdown",
   "metadata": {},
   "source": [
    "# Resamplear muestras"
   ]
  },
  {
   "cell_type": "code",
   "execution_count": null,
   "metadata": {},
   "outputs": [],
   "source": [
    "s.save()\n",
    "!ksource resample \"samples_source.txt\" -o \"resampled\" -n 1E5\n",
    "mcplfile = \"resampled.mcpl.gz\""
   ]
  },
  {
   "cell_type": "markdown",
   "metadata": {},
   "source": [
    "### Vuelva al inicio para analizar distribucion de muestras resampleadas"
   ]
  },
  {
   "cell_type": "code",
   "execution_count": null,
   "metadata": {},
   "outputs": [],
   "source": []
  }
 ],
 "metadata": {
  "kernelspec": {
   "display_name": "Python 3",
   "language": "python",
   "name": "python3"
  },
  "language_info": {
   "codemirror_mode": {
    "name": "ipython",
    "version": 3
   },
   "file_extension": ".py",
   "mimetype": "text/x-python",
   "name": "python",
   "nbconvert_exporter": "python",
   "pygments_lexer": "ipython3",
   "version": "3.6.9"
  }
 },
 "nbformat": 4,
 "nbformat_minor": 2
}
