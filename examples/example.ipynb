{
 "cells": [
  {
   "cell_type": "code",
   "execution_count": null,
   "metadata": {},
   "outputs": [],
   "source": [
    "import numpy as np\n",
    "import matplotlib.pyplot as plt\n",
    "np.set_printoptions(precision=3)\n",
    "\n",
    "import ksource_py as ks\n",
    "import mcpl"
   ]
  },
  {
   "cell_type": "code",
   "execution_count": null,
   "metadata": {},
   "outputs": [],
   "source": [
    "%matplotlib inline"
   ]
  },
  {
   "cell_type": "markdown",
   "metadata": {},
   "source": [
    "# Generar muestras artificiales"
   ]
  },
  {
   "cell_type": "code",
   "execution_count": null,
   "metadata": {
    "scrolled": true
   },
   "outputs": [],
   "source": [
    "N = int(1E5)\n",
    "\n",
    "pt = \"n\"\n",
    "su = 1\n",
    "Es = np.exp(np.random.normal(0, 1, (N,1)))\n",
    "sx = sy = 10\n",
    "poss = np.random.normal([0,0,0], [10,10,0], (N,3))\n",
    "sdx = sdy = .1\n",
    "dirs = np.random.normal([0,0,0], [.1,.1,0], (N,3))\n",
    "dirs[:,2] = np.sqrt(1-dirs[:,0]**2-dirs[:,1]**2)\n",
    "parts = np.concatenate((Es,poss,dirs), axis=1)\n",
    "ws = np.random.normal(1, 0.1, N)\n",
    "\n",
    "tracksfile = \"samples.ssv\" # \"tracks.ssv\"\n",
    "ks.savessv(pt, parts, ws, tracksfile)\n",
    "mcplfile = ks.convert2mcpl(tracksfile, \"ssv\")"
   ]
  },
  {
   "cell_type": "markdown",
   "metadata": {},
   "source": [
    "# Crear KSource"
   ]
  },
  {
   "cell_type": "code",
   "execution_count": null,
   "metadata": {},
   "outputs": [],
   "source": [
    "J = 1\n",
    "set_params = True\n",
    "plist = ks.PList(mcplfile, set_params=set_params)\n",
    "geom = ks.Geometry([ks.Lethargy(1), ks.SurfXY(0), ks.Isotrop()])\n",
    "s = ks.KSource(plist, geom, bw=\"silv\", J=J)"
   ]
  },
  {
   "cell_type": "code",
   "execution_count": null,
   "metadata": {
    "scrolled": true
   },
   "outputs": [],
   "source": [
    "# Ajustar KSource\n",
    "\n",
    "N = -1 # Cantidad de particulas a utilizar\n",
    "s.bw_method = \"silv\" # silv, mlcv, knn\n",
    "s.fit(N)\n",
    "s.bw /= 5 # Para graficos integrales puede usarse una bw mas baja"
   ]
  },
  {
   "cell_type": "markdown",
   "metadata": {},
   "source": [
    "# Evaluar estadistica"
   ]
  },
  {
   "cell_type": "code",
   "execution_count": null,
   "metadata": {},
   "outputs": [],
   "source": [
    "# Con MCPL\n",
    "\n",
    "mcpl.dump_stats(mcpl.collect_stats(mcplfile))\n",
    "mcpl.plot_stats(mcplfile)"
   ]
  },
  {
   "cell_type": "code",
   "execution_count": null,
   "metadata": {},
   "outputs": [],
   "source": [
    "# Con ks.Stats\n",
    "\n",
    "# Intervalos de variables (box)\n",
    "dxymax = -1\n",
    "dzmin = np.sqrt(1-dxymax**2)\n",
    "maskfun = ks.Box([None,None,None,None,None,None,dzmin], None)\n",
    "\n",
    "# Funcion de peso\n",
    "fact_dosim = ks.H10(pt=plist.pt)\n",
    "weightfun = lambda parts: parts[:,0]\n",
    "\n",
    "parts,ws = plist.get()\n",
    "stats = ks.Stats(parts, ws, weightfun=weightfun, maskfun=maskfun)\n",
    "\n",
    "N,I,err = stats.mean_weight(steps=100)\n",
    "plt.show()\n",
    "N,mn,err = stats.mean(var=1, steps=100)\n",
    "plt.show()\n",
    "N,mn,err = stats.std(var=1, steps=100)\n",
    "plt.show()"
   ]
  },
  {
   "cell_type": "markdown",
   "metadata": {},
   "source": [
    "# Crear graficos"
   ]
  },
  {
   "cell_type": "code",
   "execution_count": null,
   "metadata": {},
   "outputs": [],
   "source": [
    "# Graficos en E\n",
    "\n",
    "vec0 = None\n",
    "vec1 = None\n",
    "EE = np.logspace(-1,1,100)\n",
    "fig,scores = s.plot_E(EE, vec0, vec1)\n",
    "\n",
    "uu = np.log(1/EE)\n",
    "plt.plot(EE, 1/EE * np.exp(-uu**2/(2*su**2))/(su*np.sqrt(2*np.pi)), zorder=3, label=\"True\")\n",
    "plt.legend()\n",
    "plt.show()"
   ]
  },
  {
   "cell_type": "code",
   "execution_count": null,
   "metadata": {},
   "outputs": [],
   "source": [
    "# Graficos en x\n",
    "\n",
    "vec0 = None # [0, -30,-30, 0,-180]\n",
    "vec1 = None # [25, 30,30, 1,180]\n",
    "xx = np.linspace(-30,30,30)\n",
    "fig,scores = s.plot_integr(xx, \"x\", vec0, vec1)\n",
    "\n",
    "pdf = np.exp(-(xx/sx)**2/2)/(sx*np.sqrt(2*np.pi))\n",
    "plt.plot(xx, pdf, zorder=5, label=\"True\")\n",
    "plt.legend()\n",
    "plt.show()\n"
   ]
  },
  {
   "cell_type": "code",
   "execution_count": null,
   "metadata": {},
   "outputs": [],
   "source": [
    "# Graficos en dz\n",
    "\n",
    "vec0 = None # [20, -30,-30, 0,-180]\n",
    "vec1 = None # [25, 30,30, 1,180]\n",
    "ddz = np.linspace(0.9,1,30)\n",
    "fig,[scores,errs] = s.plot_integr(ddz, \"dz\", vec0, vec1)\n",
    "\n",
    "ddz = ddz[:30]\n",
    "ddx = np.sqrt(1-ddz**2)\n",
    "pdf = 2*np.pi*ddz * np.exp(-(ddx/sdx)**2/2)/(sdx*sdy*(2*np.pi))\n",
    "plt.plot(ddz, pdf, zorder=5, label=\"True\")\n",
    "plt.show()\n"
   ]
  },
  {
   "cell_type": "markdown",
   "metadata": {},
   "source": [
    "# Resamplear muestras"
   ]
  },
  {
   "cell_type": "code",
   "execution_count": null,
   "metadata": {},
   "outputs": [],
   "source": [
    "s.save()\n",
    "!ksource resample \"samples_source.txt\" -o \"resampled\" -n 1E5\n",
    "mcplfile = \"resampled.mcpl.gz\""
   ]
  },
  {
   "cell_type": "markdown",
   "metadata": {},
   "source": [
    "### Vuelva al inicio para analizar distribucion de muestras resampleadas"
   ]
  },
  {
   "cell_type": "code",
   "execution_count": null,
   "metadata": {},
   "outputs": [],
   "source": []
  }
 ],
 "metadata": {
  "kernelspec": {
   "display_name": "Python 3",
   "language": "python",
   "name": "python3"
  },
  "language_info": {
   "codemirror_mode": {
    "name": "ipython",
    "version": 3
   },
   "file_extension": ".py",
   "mimetype": "text/x-python",
   "name": "python",
   "nbconvert_exporter": "python",
   "pygments_lexer": "ipython3",
   "version": "3.6.9"
  }
 },
 "nbformat": 4,
 "nbformat_minor": 2
}
