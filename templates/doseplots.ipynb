{
 "cells": [
  {
   "cell_type": "code",
   "execution_count": null,
   "metadata": {},
   "outputs": [],
   "source": [
    "import numpy as np\n",
    "import matplotlib.pyplot as plt\n",
    "\n",
    "import ksource as ks"
   ]
  },
  {
   "cell_type": "markdown",
   "metadata": {},
   "source": [
    "# Open tally"
   ]
  },
  {
   "cell_type": "markdown",
   "metadata": {},
   "source": [
    "### Input cell\n",
    "It is recommended to complete template in a duplicated cell"
   ]
  },
  {
   "cell_type": "code",
   "execution_count": null,
   "metadata": {},
   "outputs": [],
   "source": [
    "# Plantilla\n",
    "\n",
    "folder = \"folder\"                  # Directory containing simulation outputs\n",
    "outputfile = folder+\"/filename\"    # Simulation output file\n",
    "tallyname = \"tally\"                # Name of tally to plot\n",
    "geomplot = folder+\"/graphic.n.eps\" # Name of geometry plot (if any)\n",
    "J_source = 1                       # Intensity of simulation source [1/s]\n",
    "\n",
    "tally = ks.T4Tally(outputfile, tallyname, geomplot=geomplot, J=J_source)"
   ]
  },
  {
   "cell_type": "markdown",
   "metadata": {},
   "source": [
    "# Create plots"
   ]
  },
  {
   "cell_type": "code",
   "execution_count": null,
   "metadata": {},
   "outputs": [],
   "source": [
    "cell = None        # Index of cell for non-plotted variable. None to average all cells.\n",
    "geomplot = True    # Plot geometry contours\n",
    "levelcurves = None # Level curves\n",
    "\n",
    "[fig, [scores,errs]] = tally.plot2D(['z','x'], cell=cell, levelcurves=levelcurves, geomplot=geomplot)\n",
    "plt.savefig(folder+\"/\"+tallyname+\".pdf\")"
   ]
  },
  {
   "cell_type": "code",
   "execution_count": null,
   "metadata": {},
   "outputs": [],
   "source": []
  }
 ],
 "metadata": {
  "kernelspec": {
   "display_name": "Python 3",
   "language": "python",
   "name": "python3"
  },
  "language_info": {
   "codemirror_mode": {
    "name": "ipython",
    "version": 3
   },
   "file_extension": ".py",
   "mimetype": "text/x-python",
   "name": "python",
   "nbconvert_exporter": "python",
   "pygments_lexer": "ipython3",
   "version": "3.8.10"
  }
 },
 "nbformat": 4,
 "nbformat_minor": 2
}
