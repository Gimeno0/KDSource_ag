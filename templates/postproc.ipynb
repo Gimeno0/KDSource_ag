{
 "cells": [
  {
   "cell_type": "code",
   "execution_count": null,
   "metadata": {},
   "outputs": [],
   "source": [
    "import numpy as np\n",
    "import matplotlib.pyplot as plt\n",
    "\n",
    "import ksource as ks"
   ]
  },
  {
   "cell_type": "markdown",
   "metadata": {},
   "source": [
    "# Create simulation summary"
   ]
  },
  {
   "cell_type": "markdown",
   "metadata": {},
   "source": [
    "### Input cell:\n",
    "It is recommiended to complete template in a duplicated cell"
   ]
  },
  {
   "cell_type": "code",
   "execution_count": null,
   "metadata": {},
   "outputs": [],
   "source": [
    "mccode = \"mccode\"       # \"McStas\" or \"TRIPOLI\"\n",
    "folder = \"folder\"       # Directory containing simulation outputs\n",
    "bashoutput = \"bash.out\" # Bash output from simulation\n",
    "n_detectors=[]          # Neutron list detectors\n",
    "p_detectors=[]          # Photon list detectors\n",
    "t4output=None           # TRIPOLI output (only if mccode=\"TRIPOLI\")\n",
    "tallies=[]              # Tally names\n",
    "\n",
    "summary = ks.Summary(mccode,\n",
    "                     folder,\n",
    "                     bashoutput=bashoutput, \n",
    "                     n_detectors=n_detectors, \n",
    "                     p_detectors=p_detectors, \n",
    "                     t4output=t4output,\n",
    "                     tallies=tallies)"
   ]
  },
  {
   "cell_type": "markdown",
   "metadata": {},
   "source": [
    "# Save summary"
   ]
  },
  {
   "cell_type": "code",
   "execution_count": null,
   "metadata": {},
   "outputs": [],
   "source": [
    "filename = \"summary.txt\" # Name of summary file\n",
    "\n",
    "summary.save(filename)   # Saves inside summary.folder"
   ]
  },
  {
   "cell_type": "code",
   "execution_count": null,
   "metadata": {},
   "outputs": [],
   "source": []
  }
 ],
 "metadata": {
  "kernelspec": {
   "display_name": "Python 3",
   "language": "python",
   "name": "python3"
  },
  "language_info": {
   "codemirror_mode": {
    "name": "ipython",
    "version": 3
   },
   "file_extension": ".py",
   "mimetype": "text/x-python",
   "name": "python",
   "nbconvert_exporter": "python",
   "pygments_lexer": "ipython3",
   "version": "3.8.10"
  }
 },
 "nbformat": 4,
 "nbformat_minor": 2
}
