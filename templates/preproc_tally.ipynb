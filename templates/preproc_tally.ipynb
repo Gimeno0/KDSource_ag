{
 "cells": [
  {
   "cell_type": "code",
   "execution_count": null,
   "metadata": {},
   "outputs": [],
   "source": [
    "import numpy as np\n",
    "import matplotlib.pyplot as plt\n",
    "\n",
    "import ksource as ks\n",
    "import mcpl"
   ]
  },
  {
   "cell_type": "markdown",
   "metadata": {},
   "source": [
    "# Open tally"
   ]
  },
  {
   "cell_type": "markdown",
   "metadata": {},
   "source": [
    "### Input cell:\n",
    "It is recommiended to complete template in a duplicated cell"
   ]
  },
  {
   "cell_type": "code",
   "execution_count": null,
   "metadata": {},
   "outputs": [],
   "source": [
    "outputfile = \"filename\" # Simulation output file\n",
    "tallyname = \"tally\"     # Tally name\n",
    "spectrum = \"spectrum\"   # Energy decay spectrum (only for activation tallies)\n",
    "\n",
    "tally = ks.T4Tally(outputfile, tallyname)"
   ]
  },
  {
   "cell_type": "markdown",
   "metadata": {},
   "source": [
    "# Create plots"
   ]
  },
  {
   "cell_type": "code",
   "execution_count": null,
   "metadata": {},
   "outputs": [],
   "source": [
    "cell = None # Index of cell of non-plotted variable. None to average all cells.\n",
    "\n",
    "[fig, [scores,errs]] = tally.plot2D(['z', 'x'], cell=cell)"
   ]
  },
  {
   "cell_type": "markdown",
   "metadata": {},
   "source": [
    "# Save as particle list"
   ]
  },
  {
   "cell_type": "code",
   "execution_count": null,
   "metadata": {},
   "outputs": [],
   "source": [
    "mcplname = None # Photon list file name (None: create default name)\n",
    "\n",
    "mcplname = tally.save_tracks(tracksfile)"
   ]
  },
  {
   "cell_type": "markdown",
   "metadata": {},
   "source": [
    "# Create KSource"
   ]
  },
  {
   "cell_type": "code",
   "execution_count": null,
   "metadata": {},
   "outputs": [],
   "source": [
    "# Open particle list\n",
    "\n",
    "mcplfile = mcplfile\n",
    "readformat = \"mcpl\"\n",
    "pt = \"p\"\n",
    "trasl = None\n",
    "rot = None\n",
    "x2z = False\n",
    "set_params = True\n",
    "plist = ks.PList(mcplfile, readformat, pt=pt, trasl=trasl, rot=rot, switch_x2z=x2z, set_params=set_params)\n",
    "\n",
    "# Create Geometry\n",
    "\n",
    "trasl = None\n",
    "rot = None\n",
    "volparams = [tally.grids[0][0], tally.grids[0][-1],\n",
    "             tally.grids[1][0], tally.grids[1][-1],\n",
    "             tally.grids[2][0], tally.grids[2][-1]]\n",
    "metric = ks.Geometry([ks.Lethargy(10), ks.Vol(*volparams), ks.Isotrop()], trasl=trasl, rot=rot)\n",
    "\n",
    "# Create KSource\n",
    "\n",
    "J = 1 # Activation source intensity [1/s]\n",
    "s = ks.KSource(plist, metric, bw=\"silv\", J=J)"
   ]
  },
  {
   "cell_type": "markdown",
   "metadata": {},
   "source": [
    "# Evaluate statistics"
   ]
  },
  {
   "cell_type": "code",
   "execution_count": null,
   "metadata": {},
   "outputs": [],
   "source": [
    "# With MCPL\n",
    "\n",
    "file = s.plist.filename\n",
    "mcpl.dump_stats(mcpl.collect_stats(file))\n",
    "mcpl.plot_stats(file)"
   ]
  },
  {
   "cell_type": "code",
   "execution_count": null,
   "metadata": {},
   "outputs": [],
   "source": [
    "# With ks.Stats\n",
    "\n",
    "# Select variables ranges (box)\n",
    "maskfun = ks.Box(None, None)\n",
    "\n",
    "# Weighting function\n",
    "fact_dosim = ks.H10(pt=plist.pt)\n",
    "weightfun = lambda parts: fact_dosim(parts[:,0])\n",
    "\n",
    "parts,ws = plist.get()\n",
    "stats = ks.Stats(parts, ws, weightfun=weightfun, maskfun=maskfun)\n",
    "\n",
    "N,I,err = stats.mean_weight(steps=100)\n",
    "plt.show()\n",
    "N,mn,err = stats.mean(var=1, steps=100)\n",
    "plt.show()\n",
    "N,mn,err = stats.std(var=1, steps=100)\n",
    "plt.show()"
   ]
  },
  {
   "cell_type": "markdown",
   "metadata": {},
   "source": [
    "# Optimize BW"
   ]
  },
  {
   "cell_type": "code",
   "execution_count": null,
   "metadata": {},
   "outputs": [],
   "source": [
    "# Silverman method\n",
    "\n",
    "s.bw_method = \"silv\"\n",
    "N = 1E4\n",
    "s.fit(N)\n",
    "s.scaling[0] = 0 # Discrete energies\n",
    "s.scaling[4] = s.scaling[5] = s.scaling[6] = np.inf # Isotropic emission"
   ]
  },
  {
   "cell_type": "code",
   "execution_count": null,
   "metadata": {},
   "outputs": [],
   "source": [
    "# Max Likelihood Cross Validation method\n",
    "\n",
    "s.bw_method = \"mlcv\"\n",
    "N = 1E4\n",
    "s.fit(N)\n",
    "s.scaling[0] = 0 # Discrete energies\n",
    "s.scaling[4] = s.scaling[5] = s.scaling[6] = np.inf # Isotropic emission"
   ]
  },
  {
   "cell_type": "code",
   "execution_count": null,
   "metadata": {
    "scrolled": false
   },
   "outputs": [],
   "source": [
    "# Metodo de K Nearest Neighbours\n",
    "\n",
    "s.bw_method = \"knn\"\n",
    "N = -1\n",
    "s.fit(N)\n",
    "s.scaling[:,0] = 0 # Discrete energies\n",
    "s.scaling[:,4] = s.scaling[:,5] = s.scaling[:,6] = np.inf # Isotropic emission\n",
    "\n",
    "print(\"Mean bw:\")\n",
    "print(s.bw.mean(axis=0))"
   ]
  },
  {
   "cell_type": "markdown",
   "metadata": {},
   "source": [
    "# Save KSource"
   ]
  },
  {
   "cell_type": "code",
   "execution_count": null,
   "metadata": {},
   "outputs": [],
   "source": [
    "xmlfilename = None # XML source parameters file name\n",
    "bwfilename = None  # BW file name. Only for adaptive BW\n",
    "\n",
    "xmlfilename = s.save(xmlfilename, bwfilename)"
   ]
  },
  {
   "cell_type": "code",
   "execution_count": null,
   "metadata": {},
   "outputs": [],
   "source": []
  }
 ],
 "metadata": {
  "kernelspec": {
   "display_name": "Python 3",
   "language": "python",
   "name": "python3"
  },
  "language_info": {
   "codemirror_mode": {
    "name": "ipython",
    "version": 3
   },
   "file_extension": ".py",
   "mimetype": "text/x-python",
   "name": "python",
   "nbconvert_exporter": "python",
   "pygments_lexer": "ipython3",
   "version": "3.8.10"
  }
 },
 "nbformat": 4,
 "nbformat_minor": 2
}
