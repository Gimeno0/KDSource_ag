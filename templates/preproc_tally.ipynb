{
 "cells": [
  {
   "cell_type": "code",
   "execution_count": null,
   "metadata": {},
   "outputs": [],
   "source": [
    "import numpy as np\n",
    "import matplotlib.pyplot as plt\n",
    "np.set_printoptions(precision=3)\n",
    "\n",
    "import ksource_py as ks\n",
    "import mcpl"
   ]
  },
  {
   "cell_type": "code",
   "execution_count": null,
   "metadata": {},
   "outputs": [],
   "source": [
    "%matplotlib notebook"
   ]
  },
  {
   "cell_type": "markdown",
   "metadata": {},
   "source": [
    "# Abrir tally"
   ]
  },
  {
   "cell_type": "markdown",
   "metadata": {},
   "source": [
    "### Celda de input: Se recomienda completar plantilla en una celda duplicada"
   ]
  },
  {
   "cell_type": "code",
   "execution_count": null,
   "metadata": {},
   "outputs": [],
   "source": [
    "# Plantilla\n",
    "\n",
    "outputfile = \"filename\"\n",
    "tallyname = \"tally\"\n",
    "spectrum = \"spectrum\"\n",
    "\n",
    "tally = ks.T4Tally(outputfile, tallyname)"
   ]
  },
  {
   "cell_type": "code",
   "execution_count": null,
   "metadata": {},
   "outputs": [],
   "source": [
    "# Mapa activacion en bunker\n",
    "\n",
    "outputfile = \"2_bunker_n/2_bunker_n.out\"\n",
    "tallyname = \"mapa_activ_al\" # \"mapa_activ_fe\" # \n",
    "spectrum = \"Decay/Al28.csv\" # \"Decay/Fe59.csv\" # \n",
    "\n",
    "tally = ks.T4Tally(outputfile, tallyname, spectrum)"
   ]
  },
  {
   "cell_type": "markdown",
   "metadata": {},
   "source": [
    "# Crear graficos"
   ]
  },
  {
   "cell_type": "code",
   "execution_count": null,
   "metadata": {},
   "outputs": [],
   "source": [
    "cell = None # Indice de celda en direccion normal a pantalla. None: promediar todas\n",
    "\n",
    "[fig, [scores,errs]] = tally.plot2D(['z', 'x'], cell=cell)"
   ]
  },
  {
   "cell_type": "markdown",
   "metadata": {},
   "source": [
    "# Guardar como lista de tracks"
   ]
  },
  {
   "cell_type": "code",
   "execution_count": null,
   "metadata": {},
   "outputs": [],
   "source": [
    "tracksfile = None # Usar nombre default\n",
    "\n",
    "tracksfile = tally.save_tracks(tracksfile)"
   ]
  },
  {
   "cell_type": "markdown",
   "metadata": {},
   "source": [
    "# Crear KSource"
   ]
  },
  {
   "cell_type": "code",
   "execution_count": null,
   "metadata": {},
   "outputs": [],
   "source": [
    "# Abrir lista de particulas\n",
    "\n",
    "tracksfile = tracksfile\n",
    "readformat = \"mcpl\"\n",
    "pt = \"p\"\n",
    "trasl = None\n",
    "rot = None\n",
    "x2z = False\n",
    "\n",
    "set_params = True\n",
    "plist = ks.PList(tracksfile, readformat, pt=pt, trasl=trasl, rot=rot, switch_x2z=x2z, set_params=set_params)\n",
    "\n",
    "# Crear Geometria\n",
    "\n",
    "trasl = None\n",
    "rot = None\n",
    "volparams = [tally.grids[0][0], tally.grids[0][-1],\n",
    "             tally.grids[1][0], tally.grids[1][-1],\n",
    "             tally.grids[2][0], tally.grids[2][-1]]\n",
    "metric = ks.Geometry([ks.Lethargy(10), ks.Vol(*volparams), ks.Isotrop()], trasl=trasl, rot=rot)\n",
    "\n",
    "#Crear KSource\n",
    "\n",
    "J = 1\n",
    "s = ks.KSource(plist, metric, bw=\"silv\", J=J)"
   ]
  },
  {
   "cell_type": "markdown",
   "metadata": {},
   "source": [
    "# Evaluar estadistica"
   ]
  },
  {
   "cell_type": "code",
   "execution_count": null,
   "metadata": {},
   "outputs": [],
   "source": [
    "# Con MCPL\n",
    "\n",
    "file = s.plist.filename\n",
    "mcpl.dump_stats(mcpl.collect_stats(file))\n",
    "mcpl.plot_stats(file)"
   ]
  },
  {
   "cell_type": "code",
   "execution_count": null,
   "metadata": {},
   "outputs": [],
   "source": [
    "# Con ks.Stats\n",
    "\n",
    "# Intervalos de variables (box)\n",
    "maskfun = ks.Box(None, None)\n",
    "\n",
    "# Funcion de peso\n",
    "fact_dosim = ks.H10(pt=plist.pt)\n",
    "weightfun = lambda parts: parts[:,0]\n",
    "\n",
    "parts,ws = plist.get()\n",
    "stats = ks.Stats(parts, ws, weightfun=weightfun, maskfun=maskfun)\n",
    "\n",
    "N,I,err = stats.mean_weight(steps=100)\n",
    "plt.show()\n",
    "N,mn,err = stats.mean(var=1, steps=100)\n",
    "plt.show()\n",
    "N,mn,err = stats.std(var=1, steps=100)\n",
    "plt.show()"
   ]
  },
  {
   "cell_type": "markdown",
   "metadata": {},
   "source": [
    "# Optimizar BW"
   ]
  },
  {
   "cell_type": "code",
   "execution_count": null,
   "metadata": {},
   "outputs": [],
   "source": [
    "# Metodo de Silverman\n",
    "\n",
    "s.bw_method = \"silv\"\n",
    "N = 1E4\n",
    "s.fit(N, N_tot=2991283)\n",
    "s.bw[0] = 0 # Energias discretas\n",
    "s.bw[4] = s.bw[5] = s.bw[6] = np.inf # Emision isotropica"
   ]
  },
  {
   "cell_type": "code",
   "execution_count": null,
   "metadata": {},
   "outputs": [],
   "source": [
    "# Metodo de Max Likelihood Cross Validation\n",
    "\n",
    "s.bw_method = \"mlcv\"\n",
    "N = 1E4\n",
    "s.fit(N, N_tot=s.plist.N, steps=20, max_fact=2, shift=.5)\n",
    "s.bw[0] = 0 # Energias discretas\n",
    "s.bw[4] = s.bw[5] = s.bw[6] = np.inf # Emision isotropica"
   ]
  },
  {
   "cell_type": "code",
   "execution_count": null,
   "metadata": {
    "scrolled": false
   },
   "outputs": [],
   "source": [
    "# Metodo de K Nearest Neighbours\n",
    "\n",
    "s.bw_method = \"knn\"\n",
    "N = -1\n",
    "s.fit(N)#, N_tot=100000)#2991283)\n",
    "s.bw[:,0] = 0 # Energias discretas\n",
    "s.bw[:,4] = s.bw[:,5] = s.bw[:,6] = np.inf # Emision isotropica\n",
    "\n",
    "print(\"Mean bw:\")\n",
    "print(s.bw.mean(axis=0))"
   ]
  },
  {
   "cell_type": "markdown",
   "metadata": {},
   "source": [
    "# Guardar KSource"
   ]
  },
  {
   "cell_type": "code",
   "execution_count": null,
   "metadata": {},
   "outputs": [],
   "source": [
    "sourcefilename = None\n",
    "bwfilename = None # Solo si bw variable\n",
    "\n",
    "sourcefilename = s.save(sourcefilename, bwfilename)"
   ]
  },
  {
   "cell_type": "code",
   "execution_count": null,
   "metadata": {},
   "outputs": [],
   "source": []
  }
 ],
 "metadata": {
  "kernelspec": {
   "display_name": "Python 3",
   "language": "python",
   "name": "python3"
  },
  "language_info": {
   "codemirror_mode": {
    "name": "ipython",
    "version": 3
   },
   "file_extension": ".py",
   "mimetype": "text/x-python",
   "name": "python",
   "nbconvert_exporter": "python",
   "pygments_lexer": "ipython3",
   "version": "3.6.9"
  }
 },
 "nbformat": 4,
 "nbformat_minor": 2
}
