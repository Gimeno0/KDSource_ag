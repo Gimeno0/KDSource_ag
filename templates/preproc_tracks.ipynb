{
 "cells": [
  {
   "cell_type": "code",
   "execution_count": null,
   "metadata": {},
   "outputs": [],
   "source": [
    "import numpy as np\n",
    "import matplotlib.pyplot as plt\n",
    "\n",
    "import ksource as ks\n",
    "import mcpl"
   ]
  },
  {
   "cell_type": "markdown",
   "metadata": {},
   "source": [
    "# Create KSource"
   ]
  },
  {
   "cell_type": "markdown",
   "metadata": {},
   "source": [
    "### Input cell:\n",
    "It is recommiended to complete template in a duplicated cell"
   ]
  },
  {
   "cell_type": "code",
   "execution_count": null,
   "metadata": {},
   "outputs": [],
   "source": [
    "# Open particle list\n",
    "\n",
    "plfile = \"plistfilename\"\n",
    "readformat = \"mcpl\" # \"mcpl\", \"ssw\", \"phits\", \"ptrac\", \"stock\"\n",
    "trasl = None\n",
    "rot = None\n",
    "x2z = False\n",
    "plist = ks.PList(plfile, readformat, trasl=trasl, rot=rot, switch_x2z=x2z)\n",
    "\n",
    "# Create Geometry\n",
    "\n",
    "trasl = None\n",
    "rot = None\n",
    "metric = ks.GeomFlat(trasl=trasl, rot=rot)\n",
    "\n",
    "# Create KSource\n",
    "\n",
    "J = 1 # Source intensity [1/s]\n",
    "s = ks.KSource(plist, metric, J=J)"
   ]
  },
  {
   "cell_type": "markdown",
   "metadata": {},
   "source": [
    "# Evaluate statistics"
   ]
  },
  {
   "cell_type": "code",
   "execution_count": null,
   "metadata": {},
   "outputs": [],
   "source": [
    "# With MCPL\n",
    "\n",
    "file = s.plist.filename\n",
    "mcpl.dump_stats(mcpl.collect_stats(file))\n",
    "mcpl.plot_stats(file)"
   ]
  },
  {
   "cell_type": "code",
   "execution_count": null,
   "metadata": {},
   "outputs": [],
   "source": [
    "# With ks.Stats\n",
    "\n",
    "# Select variables ranges (box)\n",
    "dxymax = -1\n",
    "dzmin = np.sqrt(1-dxymax**2)\n",
    "maskfun = ks.Box([None,None,None,None,None,None,dzmin], None)\n",
    "\n",
    "# Weighting function\n",
    "fact_dosim = ks.H10(pt=plist.pt)\n",
    "weightfun = lambda parts: fact_dosim(parts[:,0])\n",
    "\n",
    "parts,ws = plist.get()\n",
    "stats = ks.Stats(parts, ws, weightfun=weightfun, maskfun=maskfun)\n",
    "\n",
    "N,I,err = stats.mean_weight(steps=100)\n",
    "plt.show()\n",
    "N,mn,err = stats.mean(var=1, steps=100)\n",
    "plt.show()\n",
    "N,mn,err = stats.std(var=1, steps=100)\n",
    "plt.show()"
   ]
  },
  {
   "cell_type": "markdown",
   "metadata": {},
   "source": [
    "# Optimize BW"
   ]
  },
  {
   "cell_type": "markdown",
   "metadata": {},
   "source": [
    "It is recommended to execute last 2 methods with N=-1 (use all\n",
    "particles for fit) and save source.\n",
    "\n",
    "Then you can optimize again with lower N, so that plots do not take too long."
   ]
  },
  {
   "cell_type": "code",
   "execution_count": null,
   "metadata": {},
   "outputs": [],
   "source": [
    "# Silverman method\n",
    "# Fast but not very precise. Useful for rough estimation\n",
    "\n",
    "s.bw_method = \"silv\"\n",
    "N = 1E4\n",
    "s.fit(N)"
   ]
  },
  {
   "cell_type": "code",
   "execution_count": null,
   "metadata": {},
   "outputs": [],
   "source": [
    "# Max Likelihood Cross Validation method\n",
    "# Robust method. Use previous Silverman BW as seed\n",
    "\n",
    "s.bw_method = \"mlcv\"\n",
    "N = 1E4\n",
    "s.fit(N, seed=s.kde.bw)"
   ]
  },
  {
   "cell_type": "code",
   "execution_count": null,
   "metadata": {
    "scrolled": false
   },
   "outputs": [],
   "source": [
    "# K Nearest Neighbours method\n",
    "# Adaptive BW. Depends on the chosen K\n",
    "\n",
    "s.bw_method = \"knn\"\n",
    "N = -1\n",
    "s.fit(N, K=10)\n",
    "\n",
    "print(\"Mean bw:\")\n",
    "print(s.kde.bw.mean(axis=0))"
   ]
  },
  {
   "cell_type": "code",
   "execution_count": null,
   "metadata": {},
   "outputs": [],
   "source": [
    "# Max Likelihood Cross Validation method\n",
    "# Robust method. Use previous KNN adaptive BW as seed\n",
    "\n",
    "# Run CV with subset of particle list\n",
    "s.bw_method = \"mlcv\"\n",
    "N = 1E4\n",
    "bw = s.kde.bw\n",
    "s.fit(N, seed=bw[:int(N)])\n",
    "\n",
    "# Apply CV factor to all BW\n",
    "bw *= s.kde.bw[0]/bw[0]\n",
    "s.kde.bw_method = bw # Store full BW in KDE\n",
    "s.bw_method = None\n",
    "s.fit(len(bw)) # Store full particle list in KDE"
   ]
  },
  {
   "cell_type": "markdown",
   "metadata": {},
   "source": [
    "# Save KSource"
   ]
  },
  {
   "cell_type": "code",
   "execution_count": null,
   "metadata": {},
   "outputs": [],
   "source": [
    "xmlfilename = None # XML source parameters file name\n",
    "bwfilename = None  # BW file name. Only for adaptive BW\n",
    "\n",
    "xmlfilename = s.save(xmlfilename, bwfilename)"
   ]
  },
  {
   "cell_type": "markdown",
   "metadata": {},
   "source": [
    "# Create plots"
   ]
  },
  {
   "cell_type": "code",
   "execution_count": null,
   "metadata": {},
   "outputs": [],
   "source": [
    "# Energy plots\n",
    "\n",
    "vec0 = None\n",
    "vec1 = None\n",
    "EE = np.logspace(-9,0,50)\n",
    "fig,scores = s.plot_E(EE, vec0, vec1)\n",
    "plt.show()"
   ]
  },
  {
   "cell_type": "code",
   "execution_count": null,
   "metadata": {},
   "outputs": [],
   "source": [
    "# XY plots\n",
    "\n",
    "vec0 = None\n",
    "vec1 = None\n",
    "xx = np.linspace(-30,30,30)\n",
    "yy = np.linspace(-30,30,30)\n",
    "fig,[scores,errs] = s.plot2D_integr([\"x\",\"y\"], [xx,yy], vec0, vec1)\n",
    "plt.show()"
   ]
  },
  {
   "cell_type": "code",
   "execution_count": null,
   "metadata": {},
   "outputs": [],
   "source": [
    "# ZT plots (guide)\n",
    "\n",
    "Lz = s.geom.ms[1].zmax\n",
    "Lt = 2 * (s.geom.ms[1].xwidth + s.geom.ms[1].yheight)\n",
    "\n",
    "vec0 = None\n",
    "vec1 = None \n",
    "zz = np.linspace(0,Lz,50)\n",
    "fig,[scores,errs] = s.plot_integr(\"z\", zz, vec0, vec1)\n",
    "plt.show()\n",
    "\n",
    "vec0 = None\n",
    "vec1 = None\n",
    "tt = np.linspace(0,Lt,50)\n",
    "fig,[scores,errs] = s.plot_integr(\"t\", tt, vec0, vec1)\n",
    "plt.show()\n",
    "\n",
    "vec0 = None\n",
    "vec1 = None\n",
    "zz = np.linspace(0,Lz,30)\n",
    "tt = np.linspace(0,Lt,30)\n",
    "fig,[scores,errs] = s.plot2D_integr([\"z\",\"t\"], [zz,tt], vec0, vec1, scale=\"log\")\n",
    "plt.show()"
   ]
  },
  {
   "cell_type": "code",
   "execution_count": null,
   "metadata": {},
   "outputs": [],
   "source": [
    "# Polar plots\n",
    "\n",
    "vec0 = None\n",
    "vec1 = None\n",
    "tth = np.linspace(0,90,50)\n",
    "fig,[scores,errs] = s.plot_integr(\"theta\", tth, vec0, vec1)\n",
    "plt.show()\n",
    "\n",
    "vec0 = None\n",
    "vec1 = None\n",
    "pp = np.linspace(-180,180,50)\n",
    "fig,[scores,errs] = s.plot_integr(\"phi\", pp, vec0, vec1)\n",
    "plt.show()\n",
    "\n",
    "vec0 = None\n",
    "vec1 = None\n",
    "tth = np.linspace(0,90,30)\n",
    "pp = np.linspace(-180,180,30)\n",
    "fig,[scores,errs] = s.plot2D_integr([\"mu\",\"phi\"], [tth,pp], vec0, vec1)\n",
    "plt.show()"
   ]
  },
  {
   "cell_type": "code",
   "execution_count": null,
   "metadata": {},
   "outputs": [],
   "source": [
    "# Isotrop plots\n",
    "\n",
    "vec0 = None\n",
    "vec1 = None\n",
    "ddz = np.linspace(0.9,1,50)\n",
    "fig,[scores,errs] = s.plot_integr(\"dz\", ddz, vec0, vec1)\n",
    "plt.show()\n",
    "\n",
    "vec0 = None\n",
    "vec1 = None\n",
    "ddy = np.linspace(-0.1,0.1,50)\n",
    "fig,[scores,errs] = s.plot_integr(\"dy\", ddy, vec0, vec1)\n",
    "plt.show()\n",
    "\n",
    "vec0 = None\n",
    "vec1 = None\n",
    "ddx = np.linspace(-0.1,0.1,20)\n",
    "ddy = np.linspace(-0.1,0.1,20)\n",
    "fig,[scores,errs] = s.plot2D_integr([\"dx\",\"dy\"], [ddx,ddy], vec0, vec1)\n",
    "plt.show()"
   ]
  },
  {
   "cell_type": "code",
   "execution_count": null,
   "metadata": {},
   "outputs": [],
   "source": []
  }
 ],
 "metadata": {
  "kernelspec": {
   "display_name": "Python 3",
   "language": "python",
   "name": "python3"
  },
  "language_info": {
   "codemirror_mode": {
    "name": "ipython",
    "version": 3
   },
   "file_extension": ".py",
   "mimetype": "text/x-python",
   "name": "python",
   "nbconvert_exporter": "python",
   "pygments_lexer": "ipython3",
   "version": "3.8.10"
  }
 },
 "nbformat": 4,
 "nbformat_minor": 2
}
